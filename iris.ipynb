{
 "cells": [
  {
   "cell_type": "code",
   "execution_count": 1,
   "id": "b78cdf9d-d557-467a-956d-615f94b4b8d3",
   "metadata": {},
   "outputs": [
    {
     "name": "stdout",
     "output_type": "stream",
     "text": [
      "\u001b[H\u001b[2J"
     ]
    },
    {
     "data": {
      "text/plain": [
       "0"
      ]
     },
     "execution_count": 1,
     "metadata": {},
     "output_type": "execute_result"
    }
   ],
   "source": [
    "#Logistic Regression on Crypto\n",
    "#Will it go up or down? (Created Live on Video)\n",
    "from os import system\n",
    "system(\"clear\")\n"
   ]
  },
  {
   "cell_type": "code",
   "execution_count": 2,
   "id": "3f7a4205",
   "metadata": {},
   "outputs": [
    {
     "ename": "FileNotFoundError",
     "evalue": "[Errno 2] No such file or directory: 'Bitcoin.csv'",
     "output_type": "error",
     "traceback": [
      "\u001b[0;31m---------------------------------------------------------------------------\u001b[0m",
      "\u001b[0;31mFileNotFoundError\u001b[0m                         Traceback (most recent call last)",
      "\u001b[1;32m/Users/ric/Desktop/git_resume/Untitled/da/log_hw.ipynb Cell 2'\u001b[0m in \u001b[0;36m<module>\u001b[0;34m\u001b[0m\n\u001b[1;32m      <a href='vscode-notebook-cell:/Users/ric/Desktop/git_resume/Untitled/da/log_hw.ipynb#ch0000001?line=0'>1</a>\u001b[0m \u001b[39m#Load CSV into a Dataframe\u001b[39;00m\n\u001b[1;32m      <a href='vscode-notebook-cell:/Users/ric/Desktop/git_resume/Untitled/da/log_hw.ipynb#ch0000001?line=1'>2</a>\u001b[0m \u001b[39mimport\u001b[39;00m \u001b[39mpandas\u001b[39;00m \u001b[39mas\u001b[39;00m \u001b[39mpd\u001b[39;00m\n\u001b[0;32m----> <a href='vscode-notebook-cell:/Users/ric/Desktop/git_resume/Untitled/da/log_hw.ipynb#ch0000001?line=2'>3</a>\u001b[0m btcdf\u001b[39m=\u001b[39mpd\u001b[39m.\u001b[39;49mread_csv(\u001b[39m'\u001b[39;49m\u001b[39mBitcoin.csv\u001b[39;49m\u001b[39m'\u001b[39;49m, sep\u001b[39m=\u001b[39;49m\u001b[39m'\u001b[39;49m\u001b[39m,\u001b[39;49m\u001b[39m'\u001b[39;49m, header\u001b[39m=\u001b[39;49m\u001b[39m'\u001b[39;49m\u001b[39minfer\u001b[39;49m\u001b[39m'\u001b[39;49m)\n\u001b[1;32m      <a href='vscode-notebook-cell:/Users/ric/Desktop/git_resume/Untitled/da/log_hw.ipynb#ch0000001?line=3'>4</a>\u001b[0m \u001b[39m#print(btcdf.values)\u001b[39;00m\n\u001b[1;32m      <a href='vscode-notebook-cell:/Users/ric/Desktop/git_resume/Untitled/da/log_hw.ipynb#ch0000001?line=5'>6</a>\u001b[0m ethdf\u001b[39m=\u001b[39mpd\u001b[39m.\u001b[39mread_csv(\u001b[39m'\u001b[39m\u001b[39mEthereum.csv\u001b[39m\u001b[39m'\u001b[39m, sep\u001b[39m=\u001b[39m\u001b[39m'\u001b[39m\u001b[39m,\u001b[39m\u001b[39m'\u001b[39m, header\u001b[39m=\u001b[39m\u001b[39m'\u001b[39m\u001b[39minfer\u001b[39m\u001b[39m'\u001b[39m)\n",
      "File \u001b[0;32m~/opt/anaconda3/envs/da622/lib/python3.8/site-packages/pandas/util/_decorators.py:311\u001b[0m, in \u001b[0;36mdeprecate_nonkeyword_arguments.<locals>.decorate.<locals>.wrapper\u001b[0;34m(*args, **kwargs)\u001b[0m\n\u001b[1;32m    <a href='file:///Users/ric/opt/anaconda3/envs/da622/lib/python3.8/site-packages/pandas/util/_decorators.py?line=304'>305</a>\u001b[0m \u001b[39mif\u001b[39;00m \u001b[39mlen\u001b[39m(args) \u001b[39m>\u001b[39m num_allow_args:\n\u001b[1;32m    <a href='file:///Users/ric/opt/anaconda3/envs/da622/lib/python3.8/site-packages/pandas/util/_decorators.py?line=305'>306</a>\u001b[0m     warnings\u001b[39m.\u001b[39mwarn(\n\u001b[1;32m    <a href='file:///Users/ric/opt/anaconda3/envs/da622/lib/python3.8/site-packages/pandas/util/_decorators.py?line=306'>307</a>\u001b[0m         msg\u001b[39m.\u001b[39mformat(arguments\u001b[39m=\u001b[39marguments),\n\u001b[1;32m    <a href='file:///Users/ric/opt/anaconda3/envs/da622/lib/python3.8/site-packages/pandas/util/_decorators.py?line=307'>308</a>\u001b[0m         \u001b[39mFutureWarning\u001b[39;00m,\n\u001b[1;32m    <a href='file:///Users/ric/opt/anaconda3/envs/da622/lib/python3.8/site-packages/pandas/util/_decorators.py?line=308'>309</a>\u001b[0m         stacklevel\u001b[39m=\u001b[39mstacklevel,\n\u001b[1;32m    <a href='file:///Users/ric/opt/anaconda3/envs/da622/lib/python3.8/site-packages/pandas/util/_decorators.py?line=309'>310</a>\u001b[0m     )\n\u001b[0;32m--> <a href='file:///Users/ric/opt/anaconda3/envs/da622/lib/python3.8/site-packages/pandas/util/_decorators.py?line=310'>311</a>\u001b[0m \u001b[39mreturn\u001b[39;00m func(\u001b[39m*\u001b[39;49margs, \u001b[39m*\u001b[39;49m\u001b[39m*\u001b[39;49mkwargs)\n",
      "File \u001b[0;32m~/opt/anaconda3/envs/da622/lib/python3.8/site-packages/pandas/io/parsers/readers.py:680\u001b[0m, in \u001b[0;36mread_csv\u001b[0;34m(filepath_or_buffer, sep, delimiter, header, names, index_col, usecols, squeeze, prefix, mangle_dupe_cols, dtype, engine, converters, true_values, false_values, skipinitialspace, skiprows, skipfooter, nrows, na_values, keep_default_na, na_filter, verbose, skip_blank_lines, parse_dates, infer_datetime_format, keep_date_col, date_parser, dayfirst, cache_dates, iterator, chunksize, compression, thousands, decimal, lineterminator, quotechar, quoting, doublequote, escapechar, comment, encoding, encoding_errors, dialect, error_bad_lines, warn_bad_lines, on_bad_lines, delim_whitespace, low_memory, memory_map, float_precision, storage_options)\u001b[0m\n\u001b[1;32m    <a href='file:///Users/ric/opt/anaconda3/envs/da622/lib/python3.8/site-packages/pandas/io/parsers/readers.py?line=664'>665</a>\u001b[0m kwds_defaults \u001b[39m=\u001b[39m _refine_defaults_read(\n\u001b[1;32m    <a href='file:///Users/ric/opt/anaconda3/envs/da622/lib/python3.8/site-packages/pandas/io/parsers/readers.py?line=665'>666</a>\u001b[0m     dialect,\n\u001b[1;32m    <a href='file:///Users/ric/opt/anaconda3/envs/da622/lib/python3.8/site-packages/pandas/io/parsers/readers.py?line=666'>667</a>\u001b[0m     delimiter,\n\u001b[0;32m   (...)\u001b[0m\n\u001b[1;32m    <a href='file:///Users/ric/opt/anaconda3/envs/da622/lib/python3.8/site-packages/pandas/io/parsers/readers.py?line=675'>676</a>\u001b[0m     defaults\u001b[39m=\u001b[39m{\u001b[39m\"\u001b[39m\u001b[39mdelimiter\u001b[39m\u001b[39m\"\u001b[39m: \u001b[39m\"\u001b[39m\u001b[39m,\u001b[39m\u001b[39m\"\u001b[39m},\n\u001b[1;32m    <a href='file:///Users/ric/opt/anaconda3/envs/da622/lib/python3.8/site-packages/pandas/io/parsers/readers.py?line=676'>677</a>\u001b[0m )\n\u001b[1;32m    <a href='file:///Users/ric/opt/anaconda3/envs/da622/lib/python3.8/site-packages/pandas/io/parsers/readers.py?line=677'>678</a>\u001b[0m kwds\u001b[39m.\u001b[39mupdate(kwds_defaults)\n\u001b[0;32m--> <a href='file:///Users/ric/opt/anaconda3/envs/da622/lib/python3.8/site-packages/pandas/io/parsers/readers.py?line=679'>680</a>\u001b[0m \u001b[39mreturn\u001b[39;00m _read(filepath_or_buffer, kwds)\n",
      "File \u001b[0;32m~/opt/anaconda3/envs/da622/lib/python3.8/site-packages/pandas/io/parsers/readers.py:575\u001b[0m, in \u001b[0;36m_read\u001b[0;34m(filepath_or_buffer, kwds)\u001b[0m\n\u001b[1;32m    <a href='file:///Users/ric/opt/anaconda3/envs/da622/lib/python3.8/site-packages/pandas/io/parsers/readers.py?line=571'>572</a>\u001b[0m _validate_names(kwds\u001b[39m.\u001b[39mget(\u001b[39m\"\u001b[39m\u001b[39mnames\u001b[39m\u001b[39m\"\u001b[39m, \u001b[39mNone\u001b[39;00m))\n\u001b[1;32m    <a href='file:///Users/ric/opt/anaconda3/envs/da622/lib/python3.8/site-packages/pandas/io/parsers/readers.py?line=573'>574</a>\u001b[0m \u001b[39m# Create the parser.\u001b[39;00m\n\u001b[0;32m--> <a href='file:///Users/ric/opt/anaconda3/envs/da622/lib/python3.8/site-packages/pandas/io/parsers/readers.py?line=574'>575</a>\u001b[0m parser \u001b[39m=\u001b[39m TextFileReader(filepath_or_buffer, \u001b[39m*\u001b[39;49m\u001b[39m*\u001b[39;49mkwds)\n\u001b[1;32m    <a href='file:///Users/ric/opt/anaconda3/envs/da622/lib/python3.8/site-packages/pandas/io/parsers/readers.py?line=576'>577</a>\u001b[0m \u001b[39mif\u001b[39;00m chunksize \u001b[39mor\u001b[39;00m iterator:\n\u001b[1;32m    <a href='file:///Users/ric/opt/anaconda3/envs/da622/lib/python3.8/site-packages/pandas/io/parsers/readers.py?line=577'>578</a>\u001b[0m     \u001b[39mreturn\u001b[39;00m parser\n",
      "File \u001b[0;32m~/opt/anaconda3/envs/da622/lib/python3.8/site-packages/pandas/io/parsers/readers.py:933\u001b[0m, in \u001b[0;36mTextFileReader.__init__\u001b[0;34m(self, f, engine, **kwds)\u001b[0m\n\u001b[1;32m    <a href='file:///Users/ric/opt/anaconda3/envs/da622/lib/python3.8/site-packages/pandas/io/parsers/readers.py?line=929'>930</a>\u001b[0m     \u001b[39mself\u001b[39m\u001b[39m.\u001b[39moptions[\u001b[39m\"\u001b[39m\u001b[39mhas_index_names\u001b[39m\u001b[39m\"\u001b[39m] \u001b[39m=\u001b[39m kwds[\u001b[39m\"\u001b[39m\u001b[39mhas_index_names\u001b[39m\u001b[39m\"\u001b[39m]\n\u001b[1;32m    <a href='file:///Users/ric/opt/anaconda3/envs/da622/lib/python3.8/site-packages/pandas/io/parsers/readers.py?line=931'>932</a>\u001b[0m \u001b[39mself\u001b[39m\u001b[39m.\u001b[39mhandles: IOHandles \u001b[39m|\u001b[39m \u001b[39mNone\u001b[39;00m \u001b[39m=\u001b[39m \u001b[39mNone\u001b[39;00m\n\u001b[0;32m--> <a href='file:///Users/ric/opt/anaconda3/envs/da622/lib/python3.8/site-packages/pandas/io/parsers/readers.py?line=932'>933</a>\u001b[0m \u001b[39mself\u001b[39m\u001b[39m.\u001b[39m_engine \u001b[39m=\u001b[39m \u001b[39mself\u001b[39;49m\u001b[39m.\u001b[39;49m_make_engine(f, \u001b[39mself\u001b[39;49m\u001b[39m.\u001b[39;49mengine)\n",
      "File \u001b[0;32m~/opt/anaconda3/envs/da622/lib/python3.8/site-packages/pandas/io/parsers/readers.py:1217\u001b[0m, in \u001b[0;36mTextFileReader._make_engine\u001b[0;34m(self, f, engine)\u001b[0m\n\u001b[1;32m   <a href='file:///Users/ric/opt/anaconda3/envs/da622/lib/python3.8/site-packages/pandas/io/parsers/readers.py?line=1212'>1213</a>\u001b[0m     mode \u001b[39m=\u001b[39m \u001b[39m\"\u001b[39m\u001b[39mrb\u001b[39m\u001b[39m\"\u001b[39m\n\u001b[1;32m   <a href='file:///Users/ric/opt/anaconda3/envs/da622/lib/python3.8/site-packages/pandas/io/parsers/readers.py?line=1213'>1214</a>\u001b[0m \u001b[39m# error: No overload variant of \"get_handle\" matches argument types\u001b[39;00m\n\u001b[1;32m   <a href='file:///Users/ric/opt/anaconda3/envs/da622/lib/python3.8/site-packages/pandas/io/parsers/readers.py?line=1214'>1215</a>\u001b[0m \u001b[39m# \"Union[str, PathLike[str], ReadCsvBuffer[bytes], ReadCsvBuffer[str]]\"\u001b[39;00m\n\u001b[1;32m   <a href='file:///Users/ric/opt/anaconda3/envs/da622/lib/python3.8/site-packages/pandas/io/parsers/readers.py?line=1215'>1216</a>\u001b[0m \u001b[39m# , \"str\", \"bool\", \"Any\", \"Any\", \"Any\", \"Any\", \"Any\"\u001b[39;00m\n\u001b[0;32m-> <a href='file:///Users/ric/opt/anaconda3/envs/da622/lib/python3.8/site-packages/pandas/io/parsers/readers.py?line=1216'>1217</a>\u001b[0m \u001b[39mself\u001b[39m\u001b[39m.\u001b[39mhandles \u001b[39m=\u001b[39m get_handle(  \u001b[39m# type: ignore[call-overload]\u001b[39;49;00m\n\u001b[1;32m   <a href='file:///Users/ric/opt/anaconda3/envs/da622/lib/python3.8/site-packages/pandas/io/parsers/readers.py?line=1217'>1218</a>\u001b[0m     f,\n\u001b[1;32m   <a href='file:///Users/ric/opt/anaconda3/envs/da622/lib/python3.8/site-packages/pandas/io/parsers/readers.py?line=1218'>1219</a>\u001b[0m     mode,\n\u001b[1;32m   <a href='file:///Users/ric/opt/anaconda3/envs/da622/lib/python3.8/site-packages/pandas/io/parsers/readers.py?line=1219'>1220</a>\u001b[0m     encoding\u001b[39m=\u001b[39;49m\u001b[39mself\u001b[39;49m\u001b[39m.\u001b[39;49moptions\u001b[39m.\u001b[39;49mget(\u001b[39m\"\u001b[39;49m\u001b[39mencoding\u001b[39;49m\u001b[39m\"\u001b[39;49m, \u001b[39mNone\u001b[39;49;00m),\n\u001b[1;32m   <a href='file:///Users/ric/opt/anaconda3/envs/da622/lib/python3.8/site-packages/pandas/io/parsers/readers.py?line=1220'>1221</a>\u001b[0m     compression\u001b[39m=\u001b[39;49m\u001b[39mself\u001b[39;49m\u001b[39m.\u001b[39;49moptions\u001b[39m.\u001b[39;49mget(\u001b[39m\"\u001b[39;49m\u001b[39mcompression\u001b[39;49m\u001b[39m\"\u001b[39;49m, \u001b[39mNone\u001b[39;49;00m),\n\u001b[1;32m   <a href='file:///Users/ric/opt/anaconda3/envs/da622/lib/python3.8/site-packages/pandas/io/parsers/readers.py?line=1221'>1222</a>\u001b[0m     memory_map\u001b[39m=\u001b[39;49m\u001b[39mself\u001b[39;49m\u001b[39m.\u001b[39;49moptions\u001b[39m.\u001b[39;49mget(\u001b[39m\"\u001b[39;49m\u001b[39mmemory_map\u001b[39;49m\u001b[39m\"\u001b[39;49m, \u001b[39mFalse\u001b[39;49;00m),\n\u001b[1;32m   <a href='file:///Users/ric/opt/anaconda3/envs/da622/lib/python3.8/site-packages/pandas/io/parsers/readers.py?line=1222'>1223</a>\u001b[0m     is_text\u001b[39m=\u001b[39;49mis_text,\n\u001b[1;32m   <a href='file:///Users/ric/opt/anaconda3/envs/da622/lib/python3.8/site-packages/pandas/io/parsers/readers.py?line=1223'>1224</a>\u001b[0m     errors\u001b[39m=\u001b[39;49m\u001b[39mself\u001b[39;49m\u001b[39m.\u001b[39;49moptions\u001b[39m.\u001b[39;49mget(\u001b[39m\"\u001b[39;49m\u001b[39mencoding_errors\u001b[39;49m\u001b[39m\"\u001b[39;49m, \u001b[39m\"\u001b[39;49m\u001b[39mstrict\u001b[39;49m\u001b[39m\"\u001b[39;49m),\n\u001b[1;32m   <a href='file:///Users/ric/opt/anaconda3/envs/da622/lib/python3.8/site-packages/pandas/io/parsers/readers.py?line=1224'>1225</a>\u001b[0m     storage_options\u001b[39m=\u001b[39;49m\u001b[39mself\u001b[39;49m\u001b[39m.\u001b[39;49moptions\u001b[39m.\u001b[39;49mget(\u001b[39m\"\u001b[39;49m\u001b[39mstorage_options\u001b[39;49m\u001b[39m\"\u001b[39;49m, \u001b[39mNone\u001b[39;49;00m),\n\u001b[1;32m   <a href='file:///Users/ric/opt/anaconda3/envs/da622/lib/python3.8/site-packages/pandas/io/parsers/readers.py?line=1225'>1226</a>\u001b[0m )\n\u001b[1;32m   <a href='file:///Users/ric/opt/anaconda3/envs/da622/lib/python3.8/site-packages/pandas/io/parsers/readers.py?line=1226'>1227</a>\u001b[0m \u001b[39massert\u001b[39;00m \u001b[39mself\u001b[39m\u001b[39m.\u001b[39mhandles \u001b[39mis\u001b[39;00m \u001b[39mnot\u001b[39;00m \u001b[39mNone\u001b[39;00m\n\u001b[1;32m   <a href='file:///Users/ric/opt/anaconda3/envs/da622/lib/python3.8/site-packages/pandas/io/parsers/readers.py?line=1227'>1228</a>\u001b[0m f \u001b[39m=\u001b[39m \u001b[39mself\u001b[39m\u001b[39m.\u001b[39mhandles\u001b[39m.\u001b[39mhandle\n",
      "File \u001b[0;32m~/opt/anaconda3/envs/da622/lib/python3.8/site-packages/pandas/io/common.py:789\u001b[0m, in \u001b[0;36mget_handle\u001b[0;34m(path_or_buf, mode, encoding, compression, memory_map, is_text, errors, storage_options)\u001b[0m\n\u001b[1;32m    <a href='file:///Users/ric/opt/anaconda3/envs/da622/lib/python3.8/site-packages/pandas/io/common.py?line=783'>784</a>\u001b[0m \u001b[39melif\u001b[39;00m \u001b[39misinstance\u001b[39m(handle, \u001b[39mstr\u001b[39m):\n\u001b[1;32m    <a href='file:///Users/ric/opt/anaconda3/envs/da622/lib/python3.8/site-packages/pandas/io/common.py?line=784'>785</a>\u001b[0m     \u001b[39m# Check whether the filename is to be opened in binary mode.\u001b[39;00m\n\u001b[1;32m    <a href='file:///Users/ric/opt/anaconda3/envs/da622/lib/python3.8/site-packages/pandas/io/common.py?line=785'>786</a>\u001b[0m     \u001b[39m# Binary mode does not support 'encoding' and 'newline'.\u001b[39;00m\n\u001b[1;32m    <a href='file:///Users/ric/opt/anaconda3/envs/da622/lib/python3.8/site-packages/pandas/io/common.py?line=786'>787</a>\u001b[0m     \u001b[39mif\u001b[39;00m ioargs\u001b[39m.\u001b[39mencoding \u001b[39mand\u001b[39;00m \u001b[39m\"\u001b[39m\u001b[39mb\u001b[39m\u001b[39m\"\u001b[39m \u001b[39mnot\u001b[39;00m \u001b[39min\u001b[39;00m ioargs\u001b[39m.\u001b[39mmode:\n\u001b[1;32m    <a href='file:///Users/ric/opt/anaconda3/envs/da622/lib/python3.8/site-packages/pandas/io/common.py?line=787'>788</a>\u001b[0m         \u001b[39m# Encoding\u001b[39;00m\n\u001b[0;32m--> <a href='file:///Users/ric/opt/anaconda3/envs/da622/lib/python3.8/site-packages/pandas/io/common.py?line=788'>789</a>\u001b[0m         handle \u001b[39m=\u001b[39m \u001b[39mopen\u001b[39;49m(\n\u001b[1;32m    <a href='file:///Users/ric/opt/anaconda3/envs/da622/lib/python3.8/site-packages/pandas/io/common.py?line=789'>790</a>\u001b[0m             handle,\n\u001b[1;32m    <a href='file:///Users/ric/opt/anaconda3/envs/da622/lib/python3.8/site-packages/pandas/io/common.py?line=790'>791</a>\u001b[0m             ioargs\u001b[39m.\u001b[39;49mmode,\n\u001b[1;32m    <a href='file:///Users/ric/opt/anaconda3/envs/da622/lib/python3.8/site-packages/pandas/io/common.py?line=791'>792</a>\u001b[0m             encoding\u001b[39m=\u001b[39;49mioargs\u001b[39m.\u001b[39;49mencoding,\n\u001b[1;32m    <a href='file:///Users/ric/opt/anaconda3/envs/da622/lib/python3.8/site-packages/pandas/io/common.py?line=792'>793</a>\u001b[0m             errors\u001b[39m=\u001b[39;49merrors,\n\u001b[1;32m    <a href='file:///Users/ric/opt/anaconda3/envs/da622/lib/python3.8/site-packages/pandas/io/common.py?line=793'>794</a>\u001b[0m             newline\u001b[39m=\u001b[39;49m\u001b[39m\"\u001b[39;49m\u001b[39m\"\u001b[39;49m,\n\u001b[1;32m    <a href='file:///Users/ric/opt/anaconda3/envs/da622/lib/python3.8/site-packages/pandas/io/common.py?line=794'>795</a>\u001b[0m         )\n\u001b[1;32m    <a href='file:///Users/ric/opt/anaconda3/envs/da622/lib/python3.8/site-packages/pandas/io/common.py?line=795'>796</a>\u001b[0m     \u001b[39melse\u001b[39;00m:\n\u001b[1;32m    <a href='file:///Users/ric/opt/anaconda3/envs/da622/lib/python3.8/site-packages/pandas/io/common.py?line=796'>797</a>\u001b[0m         \u001b[39m# Binary mode\u001b[39;00m\n\u001b[1;32m    <a href='file:///Users/ric/opt/anaconda3/envs/da622/lib/python3.8/site-packages/pandas/io/common.py?line=797'>798</a>\u001b[0m         handle \u001b[39m=\u001b[39m \u001b[39mopen\u001b[39m(handle, ioargs\u001b[39m.\u001b[39mmode)\n",
      "\u001b[0;31mFileNotFoundError\u001b[0m: [Errno 2] No such file or directory: 'Bitcoin.csv'"
     ]
    }
   ],
   "source": [
    "#Load CSV into a Dataframe\n",
    "import pandas as pd\n",
    "btcdf=pd.read_csv('Bitcoin.csv', sep=',', header='infer')\n",
    "#print(btcdf.values)\n",
    "\n",
    "ethdf=pd.read_csv('Ethereum.csv', sep=',', header='infer')\n",
    "#print(ethdf.values)"
   ]
  },
  {
   "cell_type": "code",
   "execution_count": null,
   "id": "01a88798",
   "metadata": {},
   "outputs": [],
   "source": [
    "\n",
    "#Cleanup data by just 2017-2021 for both\n",
    "#Find 2017 row number, row 2359\n",
    "count = 0\n",
    "for row in btcdf['Date']:\n",
    "    if '2017' in row:\n",
    "        print(row)\n",
    "        print(count)\n",
    "        break\n",
    "    count +=1\n",
    "\n",
    "cleanbtcdf = btcdf.drop(\n",
    "    labels=range(0,count), #2359\n",
    "    axis=0,\n",
    "    inplace=False\n",
    ")"
   ]
  },
  {
   "cell_type": "code",
   "execution_count": null,
   "id": "c0a67d8e",
   "metadata": {},
   "outputs": [],
   "source": [
    "#Next lets drop first row (SNo)\n",
    "cleanbtcdf.drop(labels=['SNo'], axis=1, inplace=True)\n",
    "#Reset index since the row removal doesn't do that\n",
    "cleanbtcdf = cleanbtcdf.reset_index(drop=True)\n",
    "#print(cleanbtcdf)\n"
   ]
  },
  {
   "cell_type": "code",
   "execution_count": null,
   "id": "bda76c9f",
   "metadata": {},
   "outputs": [],
   "source": [
    "#Do the same thng for ethereum\n",
    "count = 0\n",
    "for row in ethdf['Date']:\n",
    "    if '2017' in row:\n",
    "        print(row)\n",
    "        print(count)\n",
    "        break\n",
    "    count +=1\n",
    "\n",
    "cleanethdf = ethdf.drop(\n",
    "    labels=range(0,count), #297\n",
    "    axis=0,\n",
    "    inplace=False\n",
    ")"
   ]
  },
  {
   "cell_type": "code",
   "execution_count": null,
   "id": "b041f1c3",
   "metadata": {},
   "outputs": [],
   "source": [
    "#Next lets drop first row (SNo)\n",
    "cleanethdf.drop(labels=['SNo'], axis=1, inplace=True)\n",
    "#Reset index since the row removal doesn't do that\n",
    "cleanethdf = cleanethdf.reset_index(drop=True)\n",
    "#print(cleanethdf)\n",
    "print(len(cleanbtcdf),'==',len(cleanethdf))\n",
    "\n",
    "#We want as input, BTC open/close and ETH open. Then as output\n",
    "#we want ETH closing price. The idea is to see if we can predict\n",
    "#the closing ETH price for the day based on how Bitcoin performed\n",
    "#the same day and what the starting price of ETH was that day.\n",
    "#This is to see if there is a correlation between both cryptos.\n",
    "\n",
    "#First let's lego both dataframe together\n",
    "btcethdf = pd.concat([cleanbtcdf, cleanethdf], axis=1, join='outer')\n",
    "#print(btcethdf)\n",
    "\n",
    "#Let's rename columns and remove the duplicate Date column\n",
    "#print(btcethdf.columns)\n",
    "btcethdf.columns = ['Date', 'BTCPrice', 'BTCOpen', 'BTCHigh', \n",
    "'BTCLow', 'BTCVol.', 'BTCChange %', 'ETHDate', 'ETHPrice', \n",
    "'ETHOpen', 'ETHHigh', 'ETHLow', 'ETHVol.', 'ETHChange %']\n",
    "btcethdf.drop(labels=['ETHDate'], axis=1,inplace=True)\n",
    "print(btcethdf)\n",
    "#print(btcethdf.columns)"
   ]
  },
  {
   "cell_type": "code",
   "execution_count": null,
   "id": "9f0f0cff",
   "metadata": {},
   "outputs": [],
   "source": [
    "\n",
    "#Let's make our X Features (Closing Price is called 'Price')\n",
    "crypto_X = btcethdf[['BTCOpen', 'BTCPrice', 'ETHOpen']].copy()\n",
    "#Our output Y:\n",
    "crypto_Y = btcethdf['ETHPrice'].copy()\n"
   ]
  },
  {
   "cell_type": "code",
   "execution_count": null,
   "id": "987fb553",
   "metadata": {},
   "outputs": [],
   "source": [
    "\n",
    "#New Code for Logistic Regression\n",
    "tmp_price = [] #List stores a 1 for price go up and 0 for price go down\n",
    "\n",
    "for i in range(len(btcethdf)):\n",
    "    if btcethdf['ETHPrice'][i] > btcethdf['ETHOpen'][i]:\n",
    "        tmp_price.append(1) #Higher close price (went up)\n",
    "    else:\n",
    "        tmp_price.append(0) #Lower/equal close than open (went down)\n",
    "crypto_Y2 = pd.Series(tmp_price, copy=False)\n",
    "print(crypto_Y2)"
   ]
  },
  {
   "cell_type": "code",
   "execution_count": null,
   "id": "4c74d437",
   "metadata": {},
   "outputs": [],
   "source": [
    "\n",
    "#NEW: Modified Y to Y2 for log regr\n",
    "#Split the data into training/testing sets randomly\n",
    "from sklearn.model_selection import train_test_split\n",
    "X_train, X_test, y_train, y_test = train_test_split(\n",
    "    crypto_X, crypto_Y2, test_size=0.20, random_state=42)\n",
    "\n",
    "#Create linear regression object\n",
    "from sklearn import linear_model\n",
    "logregr = linear_model.LogisticRegression(random_state=42,\n",
    "solver=\"lbfgs\", max_iter=100)"
   ]
  },
  {
   "cell_type": "code",
   "execution_count": null,
   "id": "927b238c",
   "metadata": {},
   "outputs": [],
   "source": [
    "#Train the model using the trianing set\n",
    "logregr.fit(X_train.values, y_train.values) #.values to remove warning\n",
    "\n",
    "#Make predictions with the model we just training and comparing\n",
    "#them with the expected results in the test data set\n",
    "y_pred = logregr.predict(X_test)\n"
   ]
  },
  {
   "cell_type": "code",
   "execution_count": null,
   "id": "a3e0b192",
   "metadata": {},
   "outputs": [],
   "source": [
    "#print(y_pred)\n",
    "#print(y_test)\n"
   ]
  },
  {
   "cell_type": "code",
   "execution_count": null,
   "id": "95adacdf",
   "metadata": {},
   "outputs": [],
   "source": [
    "#Metrics\n",
    "from sklearn import metrics\n",
    "trainscore = logregr.score(X_train, y_train)\n",
    "testscore = logregr.score(X_test, y_test)\n",
    "overallscore = logregr.score(crypto_X, crypto_Y2)\n",
    "\n",
    "print(\"Accuracy Train:\", trainscore)\n",
    "print(\"Accuracy Test:\",  testscore)\n",
    "print(\"Accuracy Overall:\", overallscore)\n",
    "print(\"Count:\", len(y_pred))\n",
    "print(metrics.precision_recall_fscore_support(y_test, y_pred,\n",
    " labels=[0,1]))\n",
    "print(metrics.confusion_matrix(y_test, y_pred))\n",
    "tn, fp, fn, tp = metrics.confusion_matrix(y_test, y_pred).ravel()\n",
    "print(tn, fp, fn, tp)\n",
    "print(\"Precision:\", tp/(tp+fp)) #the less fp the better precision\n",
    "print(\"Recall:\", tp/(tp+fn)) #the less fn the better recall.\n",
    "print(\"Harmonic:\", 2*tp/(tp+fp)*tp/(tp+fn)/(tp/(tp+fp)+tp/(tp+fn)))\n"
   ]
  },
  {
   "cell_type": "code",
   "execution_count": null,
   "id": "ecea59fa",
   "metadata": {},
   "outputs": [],
   "source": [
    "#Sample Test\n",
    "#Correct: 3329.47 ETH Closing price on 8/24\n",
    "#Opening ETH price was 3322.6\n",
    "#Bitcoin Open 49532.5 \n",
    "#Bitcoin Close 49768.2\n",
    "from numpy import FPE_DIVIDEBYZERO, array as nparray\n",
    "answer = logregr.predict(nparray([[49532.5, 49768.2, 3322.6]]))\n",
    "print(\"Expected: 1, Predicted:\", answer[0])"
   ]
  },
  {
   "cell_type": "code",
   "execution_count": null,
   "id": "c76007fc",
   "metadata": {},
   "outputs": [],
   "source": [
    "#2/20/2022 5:25AM PST\n",
    "#ETH OPEN  2723.79, ETH CLOSE 2630.48\n",
    "#BTC OPEN 39891.25  BTC CLOSE 38240.97\n",
    "\n",
    "answer = logregr.predict(nparray([[39891.25, 38240.97, 2723.79]]))\n",
    "print(\"Expected: 0, Predicted:\", answer[0])\n"
   ]
  },
  {
   "cell_type": "code",
   "execution_count": null,
   "id": "3d85eb47",
   "metadata": {},
   "outputs": [],
   "source": [
    "# Plot outputs\n",
    "import matplotlib.pyplot as plt\n",
    "TN = [[],[]]\n",
    "FP = [[],[]]\n",
    "FN = [[],[]]\n",
    "TP = [[],[]]\n",
    "for i in range(len(y_pred)):\n",
    "    if y_pred[i] == 1 and y_test.values[i] == 1:   #TP\n",
    "        TP[0].append(X_test['BTCOpen'].values[i])\n",
    "        TP[1].append(X_test['BTCPrice'].values[i])\n",
    "    elif y_pred[i] == 0 and y_test.values[i] == 0: #TN\n",
    "        TN[0].append(X_test['BTCOpen'].values[i])\n",
    "        TN[1].append(X_test['BTCPrice'].values[i])       \n",
    "    elif y_pred[i] == 1 and y_test.values[i] == 0: #FP\n",
    "        FP[0].append(X_test['BTCOpen'].values[i])\n",
    "        FP[1].append(X_test['BTCPrice'].values[i])\n",
    "    else: #y_pred[i] == 0 and y_test.values[i] == 1: #FN\n",
    "        FN[0].append(X_test['BTCOpen'].values[i])\n",
    "        FN[1].append(X_test['BTCPrice'].values[i])\n",
    "\n",
    "fig = plt.figure()\n",
    "ax1 = fig.add_subplot(221)\n",
    "ax2 = fig.add_subplot(222)\n",
    "ax3 = fig.add_subplot(223)\n",
    "ax4 = fig.add_subplot(224)\n",
    "\n",
    "ax1.set_title('True Positives')\n",
    "ax2.set_title('True Negatives')\n",
    "ax3.set_title('False Positives')\n",
    "ax4.set_title('False Negatives')\n",
    "\n",
    "ax1.scatter(range(len(TP[0])), TP[0], color=\"blue\")\n",
    "ax1.scatter(range(len(TP[1])), TP[1], color=\"green\")\n",
    "ax2.scatter(range(len(TN[0])), TN[0], color=\"blue\")\n",
    "ax2.scatter(range(len(TN[1])), TN[1], color=\"green\")\n",
    "ax3.scatter(range(len(FP[0])), FP[0], color=\"blue\")\n",
    "ax3.scatter(range(len(FP[1])), FP[1], color=\"green\")\n",
    "ax4.scatter(range(len(FN[0])), FN[0], color=\"blue\")\n",
    "ax4.scatter(range(len(FN[1])), FN[1], color=\"green\")\n",
    "\n",
    "#ax1.scatter(range(28), TP[0][0:28], color=\"blue\")\n",
    "#ax1.scatter(range(28), TP[1][0:28], color=\"green\")\n",
    "#ax2.scatter(range(28), TN[0][0:28], color=\"blue\")\n",
    "#ax2.scatter(range(28), TN[1][0:28], color=\"green\")\n",
    "#ax3.scatter(range(28), FP[0][0:28], color=\"blue\")\n",
    "#ax3.scatter(range(28), FP[1][0:28], color=\"green\")\n",
    "#ax4.scatter(range(len(FN[0])), FN[0], color=\"blue\")\n",
    "#ax4.scatter(range(len(FN[1])), FN[1], color=\"green\")\n",
    "\n",
    "plt.show()\n"
   ]
  }
 ],
 "metadata": {
  "interpreter": {
   "hash": "1343b3b84167268911acc1f6f6d84a97a4aa862617f03a77bc88a88a0855281b"
  },
  "kernelspec": {
   "display_name": "Python 3.8.12 ('da622')",
   "language": "python",
   "name": "python3"
  },
  "language_info": {
   "codemirror_mode": {
    "name": "ipython",
    "version": 3
   },
   "file_extension": ".py",
   "mimetype": "text/x-python",
   "name": "python",
   "nbconvert_exporter": "python",
   "pygments_lexer": "ipython3",
   "version": "3.8.12"
  }
 },
 "nbformat": 4,
 "nbformat_minor": 5
}
