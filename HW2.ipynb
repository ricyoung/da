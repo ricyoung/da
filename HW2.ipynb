{
  "nbformat": 4,
  "nbformat_minor": 0,
  "metadata": {
    "colab": {
      "name": "HW2.ipynb",
      "provenance": [],
      "collapsed_sections": []
    },
    "kernelspec": {
      "name": "python3",
      "display_name": "Python 3"
    },
    "language_info": {
      "name": "python"
    }
  },
  "cells": [
    {
      "cell_type": "markdown",
      "source": [
        "# Load Depenency"
      ],
      "metadata": {
        "id": "Tid-wrNW11pW"
      }
    },
    {
      "cell_type": "code",
      "execution_count": null,
      "metadata": {
        "id": "ACtufjx41sXQ"
      },
      "outputs": [],
      "source": [
        "#Cleaned up Crypto Example\n",
        "from os import system\n",
        "import pandas as pd\n",
        "from sklearn.model_selection import train_test_split\n",
        "from sklearn import datasets, linear_model\n",
        "from sklearn import metrics\n",
        "from numpy import array as nparray\n",
        "import matplotlib.pyplot as plt\n",
        "from numpy import sqrt\n",
        "# system(\"clear\")\n",
        "\n",
        "import requests\n",
        "\n",
        "import warnings\n",
        "import datetime as dt\n",
        "import plotly.express as px\n",
        "import matplotlib.pyplot as plt\n",
        "import plotly.graph_objects as go\n",
        "import pandas_datareader.data as web\n",
        "from plotly.subplots import make_subplots\n",
        "warnings.filterwarnings('ignore')\n"
      ]
    },
    {
      "cell_type": "markdown",
      "source": [
        "# Load Data"
      ],
      "metadata": {
        "id": "0oKv5xQg2hgJ"
      }
    },
    {
      "cell_type": "code",
      "source": [
        "!wget https://www.dropbox.com/s/okch71eeyta6mg9/data.zip?dl=1 -O /content/data.zip"
      ],
      "metadata": {
        "colab": {
          "base_uri": "https://localhost:8080/"
        },
        "id": "9PVB3xm22EI-",
        "outputId": "b8264857-de74-4b51-aaae-3158e7daf6fe"
      },
      "execution_count": null,
      "outputs": [
        {
          "output_type": "stream",
          "name": "stdout",
          "text": [
            "--2022-03-22 03:08:27--  https://www.dropbox.com/s/okch71eeyta6mg9/data.zip?dl=1\n",
            "Resolving www.dropbox.com (www.dropbox.com)... 162.125.3.18, 2620:100:6022:18::a27d:4212\n",
            "Connecting to www.dropbox.com (www.dropbox.com)|162.125.3.18|:443... connected.\n",
            "HTTP request sent, awaiting response... 301 Moved Permanently\n",
            "Location: /s/dl/okch71eeyta6mg9/data.zip [following]\n",
            "--2022-03-22 03:08:27--  https://www.dropbox.com/s/dl/okch71eeyta6mg9/data.zip\n",
            "Reusing existing connection to www.dropbox.com:443.\n",
            "HTTP request sent, awaiting response... 302 Found\n",
            "Location: https://uc09d8d43806eb8b7da6422511bc.dl.dropboxusercontent.com/cd/0/get/Bh5C9sDQeqNDOGEQXm3RO3y0A10JstTvKGuVDo1ciUEGhRAhE0Mu3Jy1xQI7-DQCYGU3lSOGm-JdPjfNSCHUFg3sENiDqoJCA5Z0uB8IRcmlwNVBjoK0s7aBJFG0MMpmuHJZbUA0BtDlI_XHCo90P6_h3QXb3p4NsxhkrMDlaquwlA/file?dl=1# [following]\n",
            "--2022-03-22 03:08:27--  https://uc09d8d43806eb8b7da6422511bc.dl.dropboxusercontent.com/cd/0/get/Bh5C9sDQeqNDOGEQXm3RO3y0A10JstTvKGuVDo1ciUEGhRAhE0Mu3Jy1xQI7-DQCYGU3lSOGm-JdPjfNSCHUFg3sENiDqoJCA5Z0uB8IRcmlwNVBjoK0s7aBJFG0MMpmuHJZbUA0BtDlI_XHCo90P6_h3QXb3p4NsxhkrMDlaquwlA/file?dl=1\n",
            "Resolving uc09d8d43806eb8b7da6422511bc.dl.dropboxusercontent.com (uc09d8d43806eb8b7da6422511bc.dl.dropboxusercontent.com)... 162.125.3.15, 2620:100:601b:15::a27d:80f\n",
            "Connecting to uc09d8d43806eb8b7da6422511bc.dl.dropboxusercontent.com (uc09d8d43806eb8b7da6422511bc.dl.dropboxusercontent.com)|162.125.3.15|:443... connected.\n",
            "HTTP request sent, awaiting response... 200 OK\n",
            "Length: 2175269 (2.1M) [application/binary]\n",
            "Saving to: ‘/content/data.zip’\n",
            "\n",
            "/content/data.zip   100%[===================>]   2.07M  --.-KB/s    in 0.08s   \n",
            "\n",
            "2022-03-22 03:08:28 (27.0 MB/s) - ‘/content/data.zip’ saved [2175269/2175269]\n",
            "\n"
          ]
        }
      ]
    },
    {
      "cell_type": "code",
      "source": [
        "# if not os.path.exists('/content/data/'):\n",
        "#     os.makedirs('/content/data/')\n",
        "\n",
        "\n",
        "\n",
        "!unzip -o /content/data.zip"
      ],
      "metadata": {
        "colab": {
          "base_uri": "https://localhost:8080/"
        },
        "id": "EnhcMRzm2zOQ",
        "outputId": "391e7565-dc90-41fc-c40e-ab2e3c4b7c9c"
      },
      "execution_count": null,
      "outputs": [
        {
          "output_type": "stream",
          "name": "stdout",
          "text": [
            "Archive:  /content/data.zip\n",
            "  inflating: __MACOSX/._data         \n",
            "  inflating: data/IOTA.csv           \n",
            "  inflating: __MACOSX/data/._IOTA.csv  \n",
            "  inflating: data/Chainlink.csv      \n",
            "  inflating: __MACOSX/data/._Chainlink.csv  \n",
            "  inflating: data/BitTorrent.csv     \n",
            "  inflating: __MACOSX/data/._BitTorrent.csv  \n",
            "  inflating: data/Elrond.csv         \n",
            "  inflating: __MACOSX/data/._Elrond.csv  \n",
            "  inflating: data/All_combined.csv   \n",
            "  inflating: __MACOSX/data/._All_combined.csv  \n",
            "  inflating: data/GRT.csv            \n",
            "  inflating: __MACOSX/data/._GRT.csv  \n",
            "  inflating: data/Monero.csv         \n",
            "  inflating: __MACOSX/data/._Monero.csv  \n",
            "  inflating: data/Solana.csv         \n",
            "  inflating: __MACOSX/data/._Solana.csv  \n",
            "  inflating: data/Bitcoin_Cash.csv   \n",
            "  inflating: __MACOSX/data/._Bitcoin_Cash.csv  \n",
            "  inflating: data/Axie_Infinity.csv  \n",
            "  inflating: __MACOSX/data/._Axie_Infinity.csv  \n",
            "  inflating: data/ICP.csv            \n",
            "  inflating: __MACOSX/data/._ICP.csv  \n",
            "  inflating: data/Waves.csv          \n",
            "  inflating: __MACOSX/data/._Waves.csv  \n",
            "  inflating: data/Uniswap.csv        \n",
            "  inflating: __MACOSX/data/._Uniswap.csv  \n",
            "  inflating: data/Polkadot.csv       \n",
            "  inflating: __MACOSX/data/._Polkadot.csv  \n",
            "  inflating: data/SHIBA_INU.csv      \n",
            "  inflating: __MACOSX/data/._SHIBA_INU.csv  \n",
            "  inflating: data/Aave.csv           \n",
            "  inflating: __MACOSX/data/._Aave.csv  \n",
            "  inflating: data/Binance_USD.csv    \n",
            "  inflating: __MACOSX/data/._Binance_USD.csv  \n",
            "  inflating: data/Binance_Coin.csv   \n",
            "  inflating: __MACOSX/data/._Binance_Coin.csv  \n",
            "  inflating: data/Dogecoin.csv       \n",
            "  inflating: __MACOSX/data/._Dogecoin.csv  \n",
            "  inflating: data/Klaytn.csv         \n",
            "  inflating: __MACOSX/data/._Klaytn.csv  \n",
            "  inflating: data/Kusama.csv         \n",
            "  inflating: __MACOSX/data/._Kusama.csv  \n",
            "  inflating: data/Neo.csv            \n",
            "  inflating: __MACOSX/data/._Neo.csv  \n",
            "  inflating: data/LEO.csv            \n",
            "  inflating: __MACOSX/data/._LEO.csv  \n",
            "  inflating: data/Cosmos.csv         \n",
            "  inflating: __MACOSX/data/._Cosmos.csv  \n",
            "  inflating: data/Ethereum_Classic.csv  \n",
            "  inflating: __MACOSX/data/._Ethereum_Classic.csv  \n",
            "  inflating: data/USD_Coin.csv       \n",
            "  inflating: __MACOSX/data/._USD_Coin.csv  \n",
            "  inflating: data/Stellar.csv        \n",
            "  inflating: __MACOSX/data/._Stellar.csv  \n",
            "  inflating: data/Algorand.csv       \n",
            "  inflating: __MACOSX/data/._Algorand.csv  \n",
            "  inflating: data/EOS.csv            \n",
            "  inflating: __MACOSX/data/._EOS.csv  \n",
            "  inflating: data/PancakeSwap.csv    \n",
            "  inflating: __MACOSX/data/._PancakeSwap.csv  \n",
            "  inflating: data/THETA.csv          \n",
            "  inflating: __MACOSX/data/._THETA.csv  \n",
            "  inflating: data/Tether.csv         \n",
            "  inflating: __MACOSX/data/._Tether.csv  \n",
            "  inflating: data/FTX_Token.csv      \n",
            "  inflating: __MACOSX/data/._FTX_Token.csv  \n",
            "  inflating: data/Bitcoin_SV.csv     \n",
            "  inflating: __MACOSX/data/._Bitcoin_SV.csv  \n",
            "  inflating: data/Polygon.csv        \n",
            "  inflating: __MACOSX/data/._Polygon.csv  \n",
            "  inflating: data/Ethereum.csv       \n",
            "  inflating: __MACOSX/data/._Ethereum.csv  \n",
            "  inflating: data/VeChain.csv        \n",
            "  inflating: __MACOSX/data/._VeChain.csv  \n",
            "  inflating: data/Crypto.com_Coin.csv  \n",
            "  inflating: __MACOSX/data/._Crypto.com_Coin.csv  \n",
            "  inflating: data/Litecoin.csv       \n",
            "  inflating: __MACOSX/data/._Litecoin.csv  \n",
            "  inflating: data/Bitcoin.csv        \n",
            "  inflating: __MACOSX/data/._Bitcoin.csv  \n",
            "  inflating: data/Cardano.csv        \n",
            "  inflating: __MACOSX/data/._Cardano.csv  \n",
            "  inflating: data/Dash.csv           \n",
            "  inflating: __MACOSX/data/._Dash.csv  \n",
            "  inflating: data/WBTC.csv           \n",
            "  inflating: __MACOSX/data/._WBTC.csv  \n",
            "  inflating: data/Tezos.csv          \n",
            "  inflating: __MACOSX/data/._Tezos.csv  \n",
            "  inflating: data/Dai.csv            \n",
            "  inflating: __MACOSX/data/._Dai.csv  \n",
            "  inflating: data/Tron.csv           \n",
            "  inflating: __MACOSX/data/._Tron.csv  \n",
            "  inflating: data/Filecoin.csv       \n",
            "  inflating: __MACOSX/data/._Filecoin.csv  \n",
            "  inflating: data/Maker.csv          \n",
            "  inflating: __MACOSX/data/._Maker.csv  \n",
            "  inflating: data/Bitcoin_BEP2.csv   \n",
            "  inflating: __MACOSX/data/._Bitcoin_BEP2.csv  \n",
            "  inflating: data/XPR.csv            \n",
            "  inflating: __MACOSX/data/._XPR.csv  \n",
            "  inflating: data/Avalanche.csv      \n",
            "  inflating: __MACOSX/data/._Avalanche.csv  \n"
          ]
        }
      ]
    },
    {
      "cell_type": "markdown",
      "source": [
        "#Explore Data"
      ],
      "metadata": {
        "id": "h_DJC1iG4RSB"
      }
    },
    {
      "cell_type": "code",
      "source": [
        "\n",
        "#Load CSV into Dataframe\n",
        "\n",
        "btcdf=pd.read_csv('data/Bitcoin.csv', sep=',',header='infer')\n",
        "\n",
        "# ethdf=pd.read_csv('data/Ethereum.csv', sep=',',header='infer')\n",
        "\n",
        "\n",
        "xmrdf=pd.read_csv('data/Monero.csv', sep=',',header='infer')\n"
      ],
      "metadata": {
        "id": "-o2YXU2v4Flm"
      },
      "execution_count": null,
      "outputs": []
    },
    {
      "cell_type": "code",
      "source": [
        "print(btcdf.values)\n",
        "# print(ethdf.values)\n",
        "print(xmrdf.values)"
      ],
      "metadata": {
        "colab": {
          "base_uri": "https://localhost:8080/"
        },
        "id": "dYsPomag4Vzm",
        "outputId": "e5468a7b-b50d-4b27-f898-46e1c87ee989"
      },
      "execution_count": null,
      "outputs": [
        {
          "output_type": "stream",
          "name": "stdout",
          "text": [
            "[[1 '2010-07-18' 0.1 ... 0.1 80.0 0.0]\n",
            " [2 '2010-07-19' 0.1 ... 0.1 570.0 0.0]\n",
            " [3 '2010-07-20' 0.1 ... 0.1 260.0 0.0]\n",
            " ...\n",
            " [4054 '2021-08-22' 49254.5 ... 48151.0 49320.0 0.77]\n",
            " [4055 '2021-08-23' 49539.7 ... 49038.6 75370.0 0.58]\n",
            " [4056 '2021-08-24' 49768.2 ... 48812.4 61160.0 0.46]]\n",
            "[[1 '2015-01-30' 0.303 ... 0.303 1330.0 -2.57]\n",
            " [2 '2015-01-31' 0.29 ... 0.29 480.0 -4.33]\n",
            " [3 '2015-02-01' 0.29 ... 0.29 0.0 0.0]\n",
            " ...\n",
            " [2397 '2021-08-22' 306.195 ... 275.91700000000003 113580.0 6.35]\n",
            " [2398 '2021-08-23' 318.494 ... 302.268 164950.0 4.02]\n",
            " [2399 '2021-08-24' 319.757 ... 311.623 82530.0 0.4]]\n"
          ]
        }
      ]
    },
    {
      "cell_type": "markdown",
      "source": [
        "##cleaning"
      ],
      "metadata": {
        "id": "DQ1K9Cgd4xOC"
      }
    },
    {
      "cell_type": "code",
      "source": [
        "##looks for the starting point based on year \n",
        "# count = 0\n",
        "# for row in btcdf['Date']:\n",
        "#     if '2016' in row:\n",
        "#         print(row)\n",
        "#         print(count)\n",
        "#         break\n",
        "#     count +=1\n",
        "\n"
      ],
      "metadata": {
        "id": "EF7TnjRu4X9G"
      },
      "execution_count": null,
      "outputs": []
    },
    {
      "cell_type": "markdown",
      "source": [
        "Range is set manually - it is the same as the count above eg. 2359 for btc"
      ],
      "metadata": {
        "id": "oe9FeYob5RWb"
      }
    },
    {
      "cell_type": "code",
      "source": [
        "# cleanbtcdf = btcdf.drop(\n",
        "#     labels=range(0,1993),\n",
        "#     axis=0,\n",
        "#     inplace=False\n",
        "# )\n"
      ],
      "metadata": {
        "id": "phxa_Vqn5E5S"
      },
      "execution_count": null,
      "outputs": []
    },
    {
      "cell_type": "code",
      "source": [
        "btcdf['Date'] = pd.to_datetime(btcdf['Date'])  \n",
        "xmrdf['Date'] = pd.to_datetime(xmrdf['Date'])  "
      ],
      "metadata": {
        "id": "Dgre9uB-INsI"
      },
      "execution_count": null,
      "outputs": []
    },
    {
      "cell_type": "code",
      "source": [
        "start_date = '2015-05-1'\n",
        "end_date = '2021-8-01'\n",
        "# ref: https://stackoverflow.com/questions/29370057/select-dataframe-rows-between-two-dates\n",
        "# date_range = (btcdf['Date'] > 2016-01-01) & (df['Date'] <= 2021-08-01)\n",
        "mask = (btcdf['Date'] > start_date) & (btcdf['Date'] <= end_date )\n",
        "mask2 = (xmrdf['Date'] > start_date) & (xmrdf['Date'] <= end_date )"
      ],
      "metadata": {
        "id": "tYTMexoGHvxN"
      },
      "execution_count": null,
      "outputs": []
    },
    {
      "cell_type": "code",
      "source": [
        "print(btcdf.loc[mask])"
      ],
      "metadata": {
        "colab": {
          "base_uri": "https://localhost:8080/"
        },
        "id": "LAqtYjoTICny",
        "outputId": "2f809d6a-4257-4ef1-b5f8-e601695a8d57"
      },
      "execution_count": null,
      "outputs": [
        {
          "output_type": "stream",
          "name": "stdout",
          "text": [
            "       SNo       Date    Price     Open     High      Low      Vol.  Change %\n",
            "1749  1750 2015-05-02    235.3    233.2    236.4    231.7   37080.0      0.91\n",
            "1750  1751 2015-05-03    240.0    235.3    243.6    233.8   55720.0      1.98\n",
            "1751  1752 2015-05-04    239.0    240.0    243.2    237.4   69120.0     -0.43\n",
            "1752  1753 2015-05-05    235.8    239.0    239.6    231.8   77870.0     -1.32\n",
            "1753  1754 2015-05-06    230.0    235.8    237.1    228.2  103660.0     -2.46\n",
            "...    ...        ...      ...      ...      ...      ...       ...       ...\n",
            "4028  4029 2021-07-28  40003.2  39450.4  40862.2  38883.8  148920.0      1.40\n",
            "4029  4030 2021-07-29  40001.4  40009.0  40630.7  39340.8   75300.0     -0.00\n",
            "4030  4031 2021-07-30  42203.4  40001.1  42264.4  38358.4   98450.0      5.50\n",
            "4031  4032 2021-07-31  41553.7  42201.4  42285.3  41066.4   44650.0     -1.54\n",
            "4032  4033 2021-08-01  39878.3  41510.0  42565.0  39556.5   80330.0     -4.03\n",
            "\n",
            "[2284 rows x 8 columns]\n"
          ]
        }
      ]
    },
    {
      "cell_type": "code",
      "source": [
        "print(xmrdf.loc[mask2])"
      ],
      "metadata": {
        "colab": {
          "base_uri": "https://localhost:8080/"
        },
        "id": "CJgWIlIm47Cc",
        "outputId": "2ca52a69-39fc-4489-9cef-d3cff0685215"
      },
      "execution_count": null,
      "outputs": [
        {
          "output_type": "stream",
          "name": "stdout",
          "text": [
            "       SNo       Date    Price     Open     High      Low      Vol.  Change %\n",
            "92      93 2015-05-02    0.340    0.340    0.579    0.340      10.0      0.00\n",
            "93      94 2015-05-03    0.340    0.340    0.579    0.340       0.0      0.00\n",
            "94      95 2015-05-04    0.340    0.340    0.340    0.340      10.0      0.00\n",
            "95      96 2015-05-05    0.340    0.340    0.579    0.340      70.0      0.00\n",
            "96      97 2015-05-06    0.340    0.340    0.579    0.340      10.0      0.00\n",
            "...    ...        ...      ...      ...      ...      ...       ...       ...\n",
            "2371  2372 2021-07-28  235.316  225.864  235.316  222.285  138460.0      4.19\n",
            "2372  2373 2021-07-29  241.407  235.360  248.059  230.862  121140.0      2.59\n",
            "2373  2374 2021-07-30  242.249  241.498  245.297  230.141  131100.0      0.35\n",
            "2374  2375 2021-07-31  239.607  242.283  249.021  234.387  130770.0     -1.09\n",
            "2375  2376 2021-08-01  236.235  239.607  249.376  232.275  132820.0     -1.41\n",
            "\n",
            "[2284 rows x 8 columns]\n"
          ]
        }
      ]
    },
    {
      "cell_type": "markdown",
      "source": [
        "#Next let's drop the first row (SNo)\n",
        "\n",
        "## not need to drop SNO - will drop later - just moved the mask df to a new name"
      ],
      "metadata": {
        "id": "TR2Eqnj5DCBZ"
      }
    },
    {
      "cell_type": "code",
      "source": [
        "cleanbtcdf = btcdf.loc[mask]\n",
        "# cleanbtcdf.drop(labels=['SNo'], axis=1,inplace=True)\n",
        "cleanbtcdf = btcdf.loc[mask].reset_index(drop=True)"
      ],
      "metadata": {
        "id": "apRmEy6U5NO8"
      },
      "execution_count": null,
      "outputs": []
    },
    {
      "cell_type": "code",
      "source": [
        "print(cleanbtcdf)"
      ],
      "metadata": {
        "colab": {
          "base_uri": "https://localhost:8080/"
        },
        "id": "HG3Hjrb-DC_5",
        "outputId": "8f9ad64d-3dbc-4484-e781-72f46fa73447"
      },
      "execution_count": null,
      "outputs": [
        {
          "output_type": "stream",
          "name": "stdout",
          "text": [
            "       SNo       Date    Price     Open     High      Low      Vol.  Change %\n",
            "0     1750 2015-05-02    235.3    233.2    236.4    231.7   37080.0      0.91\n",
            "1     1751 2015-05-03    240.0    235.3    243.6    233.8   55720.0      1.98\n",
            "2     1752 2015-05-04    239.0    240.0    243.2    237.4   69120.0     -0.43\n",
            "3     1753 2015-05-05    235.8    239.0    239.6    231.8   77870.0     -1.32\n",
            "4     1754 2015-05-06    230.0    235.8    237.1    228.2  103660.0     -2.46\n",
            "...    ...        ...      ...      ...      ...      ...       ...       ...\n",
            "2279  4029 2021-07-28  40003.2  39450.4  40862.2  38883.8  148920.0      1.40\n",
            "2280  4030 2021-07-29  40001.4  40009.0  40630.7  39340.8   75300.0     -0.00\n",
            "2281  4031 2021-07-30  42203.4  40001.1  42264.4  38358.4   98450.0      5.50\n",
            "2282  4032 2021-07-31  41553.7  42201.4  42285.3  41066.4   44650.0     -1.54\n",
            "2283  4033 2021-08-01  39878.3  41510.0  42565.0  39556.5   80330.0     -4.03\n",
            "\n",
            "[2284 rows x 8 columns]\n"
          ]
        }
      ]
    },
    {
      "cell_type": "markdown",
      "source": [
        "#Do same for ethereum (297):\n"
      ],
      "metadata": {
        "id": "PZqWt3boDQQh"
      }
    },
    {
      "cell_type": "code",
      "source": [
        "# cleanxmedf = xmrdf.loc[mask2] # damn typo\n",
        "cleanxmrdf = xmrdf.loc[mask2]\n",
        "# cleanxmrdf.drop(labels=['SNo'], axis=1,inplace=True)\n",
        "cleanxmrdf = xmrdf.loc[mask2].reset_index(drop=True)"
      ],
      "metadata": {
        "id": "tuB_VNaPDEK3"
      },
      "execution_count": null,
      "outputs": []
    },
    {
      "cell_type": "code",
      "source": [
        "print(cleanxmrdf)"
      ],
      "metadata": {
        "colab": {
          "base_uri": "https://localhost:8080/"
        },
        "id": "f7ht392QDWH_",
        "outputId": "6d7fbade-ba89-4303-dc67-0abfe230a284"
      },
      "execution_count": null,
      "outputs": [
        {
          "output_type": "stream",
          "name": "stdout",
          "text": [
            "       SNo       Date    Price     Open     High      Low      Vol.  Change %\n",
            "0       93 2015-05-02    0.340    0.340    0.579    0.340      10.0      0.00\n",
            "1       94 2015-05-03    0.340    0.340    0.579    0.340       0.0      0.00\n",
            "2       95 2015-05-04    0.340    0.340    0.340    0.340      10.0      0.00\n",
            "3       96 2015-05-05    0.340    0.340    0.579    0.340      70.0      0.00\n",
            "4       97 2015-05-06    0.340    0.340    0.579    0.340      10.0      0.00\n",
            "...    ...        ...      ...      ...      ...      ...       ...       ...\n",
            "2279  2372 2021-07-28  235.316  225.864  235.316  222.285  138460.0      4.19\n",
            "2280  2373 2021-07-29  241.407  235.360  248.059  230.862  121140.0      2.59\n",
            "2281  2374 2021-07-30  242.249  241.498  245.297  230.141  131100.0      0.35\n",
            "2282  2375 2021-07-31  239.607  242.283  249.021  234.387  130770.0     -1.09\n",
            "2283  2376 2021-08-01  236.235  239.607  249.376  232.275  132820.0     -1.41\n",
            "\n",
            "[2284 rows x 8 columns]\n"
          ]
        }
      ]
    },
    {
      "cell_type": "code",
      "source": [
        "#Check both are the same\n",
        "print(len(cleanbtcdf), '==', len(cleanxmrdf))"
      ],
      "metadata": {
        "colab": {
          "base_uri": "https://localhost:8080/"
        },
        "id": "nn_FplvpDZ-N",
        "outputId": "ec9938a4-67c9-4b67-d535-7f72a34b6414"
      },
      "execution_count": null,
      "outputs": [
        {
          "output_type": "stream",
          "name": "stdout",
          "text": [
            "2284 == 2284\n"
          ]
        }
      ]
    },
    {
      "cell_type": "markdown",
      "source": [
        "#Now let's try and do ML :D\n",
        "##We want as input, BTC open/close and ETH open. Then as output\n",
        "##we want ETH close. The idea is to see if we can predict closing\n",
        "##ETH price for the day based on how Bitcoin performed that day and what the starting price of ETH was that day. This is to see\n",
        "##if there is a correlation between both cryptos."
      ],
      "metadata": {
        "id": "asWpdDJFDdCu"
      }
    },
    {
      "cell_type": "markdown",
      "source": [
        "#First let's lego both dataframes together"
      ],
      "metadata": {
        "id": "Zq9Y2OOjDnNI"
      }
    },
    {
      "cell_type": "code",
      "source": [
        ""
      ],
      "metadata": {
        "id": "x2DRoKgnDlkE"
      },
      "execution_count": null,
      "outputs": []
    },
    {
      "cell_type": "code",
      "source": [
        "both_dataset = pd.concat([cleanbtcdf, cleanxmrdf], axis=1, join='outer')\n",
        "print(both_dataset)\n"
      ],
      "metadata": {
        "colab": {
          "base_uri": "https://localhost:8080/"
        },
        "id": "pXWs2k3XDjhx",
        "outputId": "503da5cc-a0fa-458e-b173-8eb4fed450de"
      },
      "execution_count": null,
      "outputs": [
        {
          "output_type": "stream",
          "name": "stdout",
          "text": [
            "       SNo       Date    Price     Open     High      Low      Vol.  Change %  \\\n",
            "0     1750 2015-05-02    235.3    233.2    236.4    231.7   37080.0      0.91   \n",
            "1     1751 2015-05-03    240.0    235.3    243.6    233.8   55720.0      1.98   \n",
            "2     1752 2015-05-04    239.0    240.0    243.2    237.4   69120.0     -0.43   \n",
            "3     1753 2015-05-05    235.8    239.0    239.6    231.8   77870.0     -1.32   \n",
            "4     1754 2015-05-06    230.0    235.8    237.1    228.2  103660.0     -2.46   \n",
            "...    ...        ...      ...      ...      ...      ...       ...       ...   \n",
            "2279  4029 2021-07-28  40003.2  39450.4  40862.2  38883.8  148920.0      1.40   \n",
            "2280  4030 2021-07-29  40001.4  40009.0  40630.7  39340.8   75300.0     -0.00   \n",
            "2281  4031 2021-07-30  42203.4  40001.1  42264.4  38358.4   98450.0      5.50   \n",
            "2282  4032 2021-07-31  41553.7  42201.4  42285.3  41066.4   44650.0     -1.54   \n",
            "2283  4033 2021-08-01  39878.3  41510.0  42565.0  39556.5   80330.0     -4.03   \n",
            "\n",
            "       SNo       Date    Price     Open     High      Low      Vol.  Change %  \n",
            "0       93 2015-05-02    0.340    0.340    0.579    0.340      10.0      0.00  \n",
            "1       94 2015-05-03    0.340    0.340    0.579    0.340       0.0      0.00  \n",
            "2       95 2015-05-04    0.340    0.340    0.340    0.340      10.0      0.00  \n",
            "3       96 2015-05-05    0.340    0.340    0.579    0.340      70.0      0.00  \n",
            "4       97 2015-05-06    0.340    0.340    0.579    0.340      10.0      0.00  \n",
            "...    ...        ...      ...      ...      ...      ...       ...       ...  \n",
            "2279  2372 2021-07-28  235.316  225.864  235.316  222.285  138460.0      4.19  \n",
            "2280  2373 2021-07-29  241.407  235.360  248.059  230.862  121140.0      2.59  \n",
            "2281  2374 2021-07-30  242.249  241.498  245.297  230.141  131100.0      0.35  \n",
            "2282  2375 2021-07-31  239.607  242.283  249.021  234.387  130770.0     -1.09  \n",
            "2283  2376 2021-08-01  236.235  239.607  249.376  232.275  132820.0     -1.41  \n",
            "\n",
            "[2284 rows x 16 columns]\n"
          ]
        }
      ]
    },
    {
      "cell_type": "code",
      "source": [
        "#Let's rename columns and remove duplicate Date column\n",
        "print(both_dataset.columns)\n",
        "both_dataset.columns = [ 'data_index', 'Date', 'BTCPrice', 'BTCOpen', 'BTCHigh',   'BTCLow', 'BTCVol', 'BTCChange', 'data_index_XMR', 'XMRDate','XMRPrice','XMROpen', 'XMRHigh',  'XMRLow', 'XMRVol', 'XMRChange']\n",
        "both_dataset.drop(labels=['XMRDate', 'data_index', 'data_index_XMR' ],axis=1,inplace=True)\n"
      ],
      "metadata": {
        "colab": {
          "base_uri": "https://localhost:8080/"
        },
        "id": "AdbrWuwWDvEZ",
        "outputId": "d3c7fbed-9123-4389-8474-83ec2a4f6b9e"
      },
      "execution_count": null,
      "outputs": [
        {
          "output_type": "stream",
          "name": "stdout",
          "text": [
            "Index(['SNo', 'Date', 'Price', 'Open', 'High', 'Low', 'Vol.', 'Change %',\n",
            "       'SNo', 'Date', 'Price', 'Open', 'High', 'Low', 'Vol.', 'Change %'],\n",
            "      dtype='object')\n"
          ]
        }
      ]
    },
    {
      "cell_type": "code",
      "source": [
        "print(both_dataset.columns)"
      ],
      "metadata": {
        "colab": {
          "base_uri": "https://localhost:8080/"
        },
        "id": "0Gi-L9xED0Xe",
        "outputId": "28eafd35-f76c-48d6-fb7a-1890eba6edbe"
      },
      "execution_count": null,
      "outputs": [
        {
          "output_type": "stream",
          "name": "stdout",
          "text": [
            "Index(['Date', 'BTCPrice', 'BTCOpen', 'BTCHigh', 'BTCLow', 'BTCVol',\n",
            "       'BTCChange', 'XMRPrice', 'XMROpen', 'XMRHigh', 'XMRLow', 'XMRVol',\n",
            "       'XMRChange'],\n",
            "      dtype='object')\n"
          ]
        }
      ]
    },
    {
      "cell_type": "code",
      "source": [
        ""
      ],
      "metadata": {
        "id": "2hJRmfRUD12M"
      },
      "execution_count": null,
      "outputs": []
    },
    {
      "cell_type": "markdown",
      "source": [
        "#ML part"
      ],
      "metadata": {
        "id": "eYeY2yeBD61U"
      }
    },
    {
      "cell_type": "code",
      "source": [
        "#Let's make our X Features (Closing Price is called 'Price'):\n",
        "crypto_X = both_dataset[['BTCOpen','BTCPrice','BTCHigh', 'BTCLow', 'BTCVol','XMROpen', 'XMRHigh', 'XMRLow']].copy()\n",
        "\n",
        "#crypto_X = btcethdf[['BTCOpen','BTCPrice']].copy()\n",
        "#Our output Y:\n",
        "crypto_Y = both_dataset['XMRPrice'].copy()\n"
      ],
      "metadata": {
        "id": "ho8E091CD9HX"
      },
      "execution_count": null,
      "outputs": []
    },
    {
      "cell_type": "code",
      "source": [
        "print(crypto_X)"
      ],
      "metadata": {
        "colab": {
          "base_uri": "https://localhost:8080/"
        },
        "id": "LkrI1MMvD_8r",
        "outputId": "28d562b8-093d-4e4b-d397-f24a9d3ea120"
      },
      "execution_count": null,
      "outputs": [
        {
          "output_type": "stream",
          "name": "stdout",
          "text": [
            "      BTCOpen  BTCPrice  BTCHigh   BTCLow    BTCVol  XMROpen  XMRHigh   XMRLow\n",
            "0       233.2     235.3    236.4    231.7   37080.0    0.340    0.579    0.340\n",
            "1       235.3     240.0    243.6    233.8   55720.0    0.340    0.579    0.340\n",
            "2       240.0     239.0    243.2    237.4   69120.0    0.340    0.340    0.340\n",
            "3       239.0     235.8    239.6    231.8   77870.0    0.340    0.579    0.340\n",
            "4       235.8     230.0    237.1    228.2  103660.0    0.340    0.579    0.340\n",
            "...       ...       ...      ...      ...       ...      ...      ...      ...\n",
            "2279  39450.4   40003.2  40862.2  38883.8  148920.0  225.864  235.316  222.285\n",
            "2280  40009.0   40001.4  40630.7  39340.8   75300.0  235.360  248.059  230.862\n",
            "2281  40001.1   42203.4  42264.4  38358.4   98450.0  241.498  245.297  230.141\n",
            "2282  42201.4   41553.7  42285.3  41066.4   44650.0  242.283  249.021  234.387\n",
            "2283  41510.0   39878.3  42565.0  39556.5   80330.0  239.607  249.376  232.275\n",
            "\n",
            "[2284 rows x 8 columns]\n"
          ]
        }
      ]
    },
    {
      "cell_type": "code",
      "source": [
        "print(crypto_Y)"
      ],
      "metadata": {
        "colab": {
          "base_uri": "https://localhost:8080/"
        },
        "id": "Zw2FCywcECXV",
        "outputId": "46bb000d-0eb7-43f4-dd9d-48ebf3883da4"
      },
      "execution_count": null,
      "outputs": [
        {
          "output_type": "stream",
          "name": "stdout",
          "text": [
            "0         0.340\n",
            "1         0.340\n",
            "2         0.340\n",
            "3         0.340\n",
            "4         0.340\n",
            "         ...   \n",
            "2279    235.316\n",
            "2280    241.407\n",
            "2281    242.249\n",
            "2282    239.607\n",
            "2283    236.235\n",
            "Name: XMRPrice, Length: 2284, dtype: float64\n"
          ]
        }
      ]
    },
    {
      "cell_type": "code",
      "source": [
        "#Split the data into training/testing sets randomly\n",
        "\n",
        "X_train, X_test, y_train, y_test = train_test_split( crypto_X, crypto_Y, test_size=0.50, random_state=42) #Try 40\n"
      ],
      "metadata": {
        "id": "EcicloCvEH3x"
      },
      "execution_count": null,
      "outputs": []
    },
    {
      "cell_type": "markdown",
      "source": [
        "###Create linear regression object"
      ],
      "metadata": {
        "id": "T-l374YIETOz"
      }
    },
    {
      "cell_type": "code",
      "source": [
        "from sklearn.linear_model import ElasticNet\n",
        "from sklearn.preprocessing import PolynomialFeatures\n",
        "from sklearn.metrics import r2_score"
      ],
      "metadata": {
        "id": "fan76oTsitEt"
      },
      "execution_count": null,
      "outputs": []
    },
    {
      "cell_type": "code",
      "source": [
        "poly_reg_model = LinearRegression()\n",
        "regr = linear_model.LinearRegression()\n"
      ],
      "metadata": {
        "id": "e1V3abvYEOxo"
      },
      "execution_count": null,
      "outputs": []
    },
    {
      "cell_type": "code",
      "source": [
        "# ref:https://www.analyticsvidhya.com/blog/2021/07/all-you-need-to-know-about-polynomial-regression/\n",
        "\n",
        "#applying polynomial regression degree 2\n",
        "from sklearn import linear_model\n",
        "poly = PolynomialFeatures(degree=2, include_bias=True)\n",
        "x_train_trans = poly.fit_transform(X_train)\n",
        "x_test_trans = poly.transform(X_test)\n",
        "#include bias parameter\n",
        "lr = linear_model.LinearRegression()\n",
        "lr.fit(X_train, y_train)\n",
        "y_pred = lr.predict(X_test)\n",
        "print(r2_score(y_test, y_pred))\n",
        "\n",
        "lr.fit(X_test, y_train)\n",
        "y_pred = lr.predict(X_test)\n",
        "\n",
        "print(\"Coefficients: \\n\", regr.coef_)\n",
        "print('Mean Absolute Error:',metrics.mean_absolute_error(y_test, y_pred))\n",
        "print('Mean Squared Error:',metrics.mean_squared_error(y_test, y_pred))\n",
        "print('Root Mean Squared Error:', sqrt(metrics.mean_squared_error(y_test, y_pred)))\n",
        "# The mean squared error\n",
        "print(\"Mean squared Error: %.2f\" % metrics.mean_squared_error(y_test, y_pred))\n",
        "# The coefficient of determination: 1 is perfect prediction\n",
        "print(\"Coefficient of determination: %.2f\" % metrics.r2_score(y_test, y_pred))\n",
        "print(r2_score(y_test, y_pred))"
      ],
      "metadata": {
        "colab": {
          "base_uri": "https://localhost:8080/"
        },
        "id": "KdIuISGvnGQs",
        "outputId": "1bc05fbb-f707-48ba-b67b-ab08e068e281"
      },
      "execution_count": null,
      "outputs": [
        {
          "output_type": "stream",
          "name": "stdout",
          "text": [
            "0.997797342799152\n",
            "Coefficients: \n",
            " [ 9.13991538e-04  6.82994649e-03 -4.02649004e-03 -3.75264988e-03\n",
            "  4.76271289e-08 -2.36597210e-01  7.55859413e-01  4.75755125e-01]\n",
            "Mean Absolute Error: 67.7828772619474\n",
            "Mean Squared Error: 8108.6285337925365\n",
            "Root Mean Squared Error: 90.04792353959382\n",
            "Mean squared Error: 8108.63\n",
            "Coefficient of determination: 0.06\n",
            "0.06128531474787002\n"
          ]
        }
      ]
    },
    {
      "cell_type": "code",
      "source": [
        "# regr2 = ElasticNet(random_state=40)"
      ],
      "metadata": {
        "id": "n7jsifzki2fD"
      },
      "execution_count": null,
      "outputs": []
    },
    {
      "cell_type": "markdown",
      "source": [
        "## Train the model using the training sets"
      ],
      "metadata": {
        "id": "cSab0jZCEaqX"
      }
    },
    {
      "cell_type": "code",
      "source": [
        "regr.fit(X_train, y_train)"
      ],
      "metadata": {
        "colab": {
          "base_uri": "https://localhost:8080/"
        },
        "id": "qkZBSDPNEW2m",
        "outputId": "ca62b47b-de2e-4eab-ebf8-60f4cde917ff"
      },
      "execution_count": null,
      "outputs": [
        {
          "output_type": "execute_result",
          "data": {
            "text/plain": [
              "LinearRegression()"
            ]
          },
          "metadata": {},
          "execution_count": 37
        }
      ]
    },
    {
      "cell_type": "code",
      "source": [
        "# regr2.fit(X_train, y_train)"
      ],
      "metadata": {
        "id": "Gmg73JZxixqf"
      },
      "execution_count": null,
      "outputs": []
    },
    {
      "cell_type": "markdown",
      "source": [
        "## Make predictions using the testing set"
      ],
      "metadata": {
        "id": "eRmYxZq-EeQC"
      }
    },
    {
      "cell_type": "code",
      "source": [
        "y_pred = regr.predict(X_test)"
      ],
      "metadata": {
        "id": "fddgbbx2EY17"
      },
      "execution_count": null,
      "outputs": []
    },
    {
      "cell_type": "code",
      "source": [
        "# y_pred = regr2.fit(X_test, y_test)"
      ],
      "metadata": {
        "id": "VeP2gbOkEg2G"
      },
      "execution_count": null,
      "outputs": []
    },
    {
      "cell_type": "markdown",
      "source": [
        "\n",
        "#Metrics:"
      ],
      "metadata": {
        "id": "ay7An9ZXEi3_"
      }
    },
    {
      "cell_type": "code",
      "source": [
        "print(\"Coefficients: \\n\", regr.coef_)\n",
        "print('Mean Absolute Error:',metrics.mean_absolute_error(y_test, y_pred))\n",
        "print('Mean Squared Error:',metrics.mean_squared_error(y_test, y_pred))\n",
        "print('Root Mean Squared Error:', sqrt(metrics.mean_squared_error(y_test, y_pred)))\n",
        "# The mean squared error\n",
        "print(\"Mean squared Error: %.2f\" % metrics.mean_squared_error(y_test, y_pred))\n",
        "# The coefficient of determination: 1 is perfect prediction\n",
        "print(\"Coefficient of determination: %.2f\" % metrics.r2_score(y_test, y_pred))\n"
      ],
      "metadata": {
        "colab": {
          "base_uri": "https://localhost:8080/"
        },
        "id": "L6BrxR3cEllh",
        "outputId": "b4aef3ad-11bf-46df-9102-6a2cecdffe4b"
      },
      "execution_count": null,
      "outputs": [
        {
          "output_type": "stream",
          "name": "stdout",
          "text": [
            "Coefficients: \n",
            " [ 9.13991538e-04  6.82994649e-03 -4.02649004e-03 -3.75264988e-03\n",
            "  4.76271289e-08 -2.36597210e-01  7.55859413e-01  4.75755125e-01]\n",
            "Mean Absolute Error: 1.752260826100005\n",
            "Mean Squared Error: 19.026578905775448\n",
            "Root Mean Squared Error: 4.361946687635631\n",
            "Mean squared Error: 19.03\n",
            "Coefficient of determination: 1.00\n"
          ]
        }
      ]
    },
    {
      "cell_type": "code",
      "source": [
        ""
      ],
      "metadata": {
        "id": "HAXJqrCoEmY5"
      },
      "execution_count": null,
      "outputs": []
    },
    {
      "cell_type": "markdown",
      "source": [
        "# Plot outputs"
      ],
      "metadata": {
        "id": "gs941iV0Esef"
      }
    },
    {
      "cell_type": "code",
      "source": [
        "fig = plt.figure()\n",
        "ax = fig.add_subplot(projection='3d')\n",
        "ax.scatter(X_test['BTCOpen'], X_test['BTCPrice'], y_test, color=\"black\")\n",
        "ax.scatter(X_test['BTCOpen'], X_test['BTCPrice'], y_pred, color=\"blue\")\n",
        "#ax.plot(X_test['BTCOpen'], X_test['BTCPrice'], y_pred, color=\"blue\", linewidth=3)\n",
        "\n",
        "ax.set_xlabel('BTC Open')\n",
        "ax.set_ylabel('BTC Close')\n",
        "ax.set_zlabel('ETH Close')\n",
        "plt.xticks(())\n",
        "plt.yticks(())"
      ],
      "metadata": {
        "colab": {
          "base_uri": "https://localhost:8080/",
          "height": 266
        },
        "id": "VcKPHl23EtNU",
        "outputId": "71bab21e-23e8-4616-9dd2-bd2edad5fa98"
      },
      "execution_count": null,
      "outputs": [
        {
          "output_type": "execute_result",
          "data": {
            "text/plain": [
              "([], <a list of 0 Text major ticklabel objects>)"
            ]
          },
          "metadata": {},
          "execution_count": 32
        },
        {
          "output_type": "display_data",
          "data": {
            "text/plain": [
              "<Figure size 432x288 with 1 Axes>"
            ],
            "image/png": "[encoded data removed]"
          },
          "metadata": {}
        }
      ]
    },
    {
      "cell_type": "code",
      "source": [
        "plt.scatter(X_test['BTCPrice'], y_test, color=\"black\")\n",
        "# plt.plot(X_test['BTCPrice'], y_pred, color=\"blue\", linewidth=.5)\n",
        "plt.scatter(X_test['BTCPrice'], y_pred, color=\"blue\")\n",
        "plt.xticks(())\n",
        "plt.yticks(())"
      ],
      "metadata": {
        "id": "SlLOCQLzEuo2",
        "colab": {
          "base_uri": "https://localhost:8080/",
          "height": 270
        },
        "outputId": "942810e8-4749-4032-8a27-7d8a0246c6b4"
      },
      "execution_count": null,
      "outputs": [
        {
          "output_type": "execute_result",
          "data": {
            "text/plain": [
              "([], <a list of 0 Text major ticklabel objects>)"
            ]
          },
          "metadata": {},
          "execution_count": 33
        },
        {
          "output_type": "display_data",
          "data": {
            "text/plain": [
              "<Figure size 432x288 with 1 Axes>"
            ],
            "image/png": "[encoded data removed]"
          },
          "metadata": {}
        }
      ]
    },
    {
      "cell_type": "code",
      "source": [
        "# plt.show()"
      ],
      "metadata": {
        "id": "MUp1kdWSEyrm"
      },
      "execution_count": null,
      "outputs": []
    }
  ]
}