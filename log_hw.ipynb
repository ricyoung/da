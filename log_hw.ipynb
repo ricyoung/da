{
 "cells": [
  {
   "cell_type": "code",
   "execution_count": 1,
   "id": "b78cdf9d-d557-467a-956d-615f94b4b8d3",
   "metadata": {},
   "outputs": [
    {
     "name": "stdout",
     "output_type": "stream",
     "text": [
      "\u001b[H\u001b[2J"
     ]
    },
    {
     "data": {
      "text/plain": [
       "0"
      ]
     },
     "execution_count": 1,
     "metadata": {},
     "output_type": "execute_result"
    }
   ],
   "source": [
    "#Logistic Regression on Crypto\n",
    "#sorce code by LeSniper\n",
    "#home by ryoung\n",
    "#Will it go up or down? (Created Live on Video)\n",
    "from os import system\n",
    "system(\"clear\")\n"
   ]
  },
  {
   "cell_type": "code",
   "execution_count": 2,
   "id": "3f7a4205",
   "metadata": {},
   "outputs": [],
   "source": [
    "#Load CSV into a Dataframe\n",
    "import pandas as pd\n",
    "btcdf=pd.read_csv('data/Bitcoin.csv', sep=',', header='infer')\n",
    "#print(btcdf.values)\n",
    "\n",
    "ethdf=pd.read_csv('data/Ethereum.csv', sep=',', header='infer')\n",
    "#print(ethdf.values)"
   ]
  },
  {
   "cell_type": "code",
   "execution_count": 3,
   "id": "01a88798",
   "metadata": {},
   "outputs": [
    {
     "name": "stdout",
     "output_type": "stream",
     "text": [
      "2017-01-01\n",
      "2359\n"
     ]
    }
   ],
   "source": [
    "\n",
    "#Cleanup data by just 2017-2021 for both\n",
    "#Find 2017 row number, row 2359\n",
    "count = 0\n",
    "for row in btcdf['Date']:\n",
    "    if '2017' in row:\n",
    "        print(row)\n",
    "        print(count)\n",
    "        break\n",
    "    count +=1\n",
    "\n",
    "cleanbtcdf = btcdf.drop(\n",
    "    labels=range(0,count), #2359\n",
    "    axis=0,\n",
    "    inplace=False\n",
    ")"
   ]
  },
  {
   "cell_type": "code",
   "execution_count": 4,
   "id": "c0a67d8e",
   "metadata": {},
   "outputs": [],
   "source": [
    "#Next lets drop first row (SNo)\n",
    "cleanbtcdf.drop(labels=['SNo'], axis=1, inplace=True)\n",
    "#Reset index since the row removal doesn't do that\n",
    "cleanbtcdf = cleanbtcdf.reset_index(drop=True)\n",
    "#print(cleanbtcdf)\n"
   ]
  },
  {
   "cell_type": "code",
   "execution_count": 5,
   "id": "bda76c9f",
   "metadata": {},
   "outputs": [
    {
     "name": "stdout",
     "output_type": "stream",
     "text": [
      "2017-01-01\n",
      "297\n"
     ]
    }
   ],
   "source": [
    "#Do the same thng for ethereum\n",
    "count = 0\n",
    "for row in ethdf['Date']:\n",
    "    if '2017' in row:\n",
    "        print(row)\n",
    "        print(count)\n",
    "        break\n",
    "    count +=1\n",
    "\n",
    "cleanethdf = ethdf.drop(\n",
    "    labels=range(0,count), #297\n",
    "    axis=0,\n",
    "    inplace=False\n",
    ")"
   ]
  },
  {
   "cell_type": "markdown",
   "id": "8dc60114",
   "metadata": {},
   "source": [
    "We want as input, BTC open/close and ETH open. Then as output\n",
    "we want ETH closing price. The idea is to see if we can predict\n",
    "the closing ETH price for the day based on how Bitcoin performed\n",
    "the same day and what the starting price of ETH was that day.\n",
    "This is to see if there is a correlation between both cryptos."
   ]
  },
  {
   "cell_type": "code",
   "execution_count": 6,
   "id": "b041f1c3",
   "metadata": {},
   "outputs": [
    {
     "name": "stdout",
     "output_type": "stream",
     "text": [
      "1697 == 1697\n",
      "            Date  BTCPrice  BTCOpen  BTCHigh   BTCLow   BTCVol.  BTCChange %  \\\n",
      "0     2017-01-01     995.4    963.4   1001.6    956.1   41150.0         3.33   \n",
      "1     2017-01-02    1017.0    995.4   1031.7    990.2   64950.0         2.17   \n",
      "2     2017-01-03    1033.3   1017.0   1035.5   1006.5   54790.0         1.60   \n",
      "3     2017-01-04    1135.4   1033.3   1148.5   1022.3  156270.0         9.88   \n",
      "4     2017-01-05     989.3   1135.4   1150.6    874.5  240010.0       -12.86   \n",
      "...          ...       ...      ...      ...      ...       ...          ...   \n",
      "1692  2021-08-20   49324.0  46756.7  49343.3  46646.8   83190.0         5.49   \n",
      "1693  2021-08-21   48875.8  49330.0  49719.1  48293.5   18200.0        -0.91   \n",
      "1694  2021-08-22   49254.5  48870.4  49480.3  48151.0   49320.0         0.77   \n",
      "1695  2021-08-23   49539.7  49255.4  50498.8  49038.6   75370.0         0.58   \n",
      "1696  2021-08-24   49768.2  49532.5  49847.4  48812.4   61160.0         0.46   \n",
      "\n",
      "      ETHPrice  ETHOpen  ETHHigh   ETHLow    ETHVol.  ETHChange %  \n",
      "0         8.20     8.17     8.59     8.03   144920.0         2.50  \n",
      "1         8.37     8.19     8.50     8.11   101270.0         2.07  \n",
      "2         9.74     8.43     9.90     8.30   603420.0        16.37  \n",
      "3        11.00     9.57    11.10     9.44   556250.0        12.94  \n",
      "4        10.15    11.16    11.70     9.20   490640.0        -7.73  \n",
      "...        ...      ...      ...      ...        ...          ...  \n",
      "1692   3284.21  3184.83  3300.36  3179.18   739320.0         3.12  \n",
      "1693   3223.96  3285.12  3307.33  3200.19   768740.0        -1.83  \n",
      "1694   3238.70  3224.17  3271.94  3128.98   747650.0         0.46  \n",
      "1695   3319.49  3238.41  3375.42  3231.96  1090000.0         2.49  \n",
      "1696   3329.47  3322.60  3357.99  3283.80   802790.0         0.30  \n",
      "\n",
      "[1697 rows x 13 columns]\n"
     ]
    }
   ],
   "source": [
    "#Next lets drop first row (SNo)\n",
    "cleanethdf.drop(labels=['SNo'], axis=1, inplace=True)\n",
    "#Reset index since the row removal doesn't do that\n",
    "cleanethdf = cleanethdf.reset_index(drop=True)\n",
    "#print(cleanethdf)\n",
    "print(len(cleanbtcdf),'==',len(cleanethdf))\n",
    "\n",
    "#We want as input, BTC open/close and ETH open. Then as output\n",
    "#we want ETH closing price. The idea is to see if we can predict\n",
    "#the closing ETH price for the day based on how Bitcoin performed\n",
    "#the same day and what the starting price of ETH was that day.\n",
    "#This is to see if there is a correlation between both cryptos.\n",
    "\n",
    "#First let's lego both dataframe together\n",
    "btcethdf = pd.concat([cleanbtcdf, cleanethdf], axis=1, join='outer')\n",
    "#print(btcethdf)\n",
    "\n",
    "#Let's rename columns and remove the duplicate Date column\n",
    "#print(btcethdf.columns)\n",
    "btcethdf.columns = ['Date', 'BTCPrice', 'BTCOpen', 'BTCHigh', \n",
    "'BTCLow', 'BTCVol.', 'BTCChange %', 'ETHDate', 'ETHPrice', \n",
    "'ETHOpen', 'ETHHigh', 'ETHLow', 'ETHVol.', 'ETHChange %']\n",
    "btcethdf.drop(labels=['ETHDate'], axis=1,inplace=True)\n",
    "print(btcethdf)\n",
    "#print(btcethdf.columns)"
   ]
  },
  {
   "cell_type": "code",
   "execution_count": 7,
   "id": "9f0f0cff",
   "metadata": {},
   "outputs": [
    {
     "name": "stdout",
     "output_type": "stream",
     "text": [
      "0       1\n",
      "1       1\n",
      "2       1\n",
      "3       1\n",
      "4       0\n",
      "       ..\n",
      "1692    1\n",
      "1693    0\n",
      "1694    1\n",
      "1695    1\n",
      "1696    1\n",
      "Length: 1697, dtype: int64\n"
     ]
    }
   ],
   "source": [
    "\n",
    "#Let's make our X Features (Closing Price is called 'Price')\n",
    "crypto_X = btcethdf[['BTCOpen', 'BTCPrice', 'ETHOpen']].copy()\n",
    "#Our output Y:\n",
    "crypto_Y = btcethdf['ETHPrice'].copy()\n",
    "\n",
    "#change code to logistic regression\n",
    "#1 is price goes up and 0 is price goes down\n",
    "tmp_price = []\n",
    "\n",
    "#should be 1697\n",
    "\n",
    "for i in range(len(btcethdf)):\n",
    "    if btcethdf['ETHPrice'][i] > btcethdf['ETHOpen'][i]:\n",
    "        tmp_price.append(1)\n",
    "    else:\n",
    "        tmp_price.append(0)\n",
    "\n",
    "crypto_Y2 = pd.Series(tmp_price, copy=False)\n",
    "print(crypto_Y2)\n",
    "exit()\n",
    "\n",
    "\n"
   ]
  },
  {
   "cell_type": "code",
   "execution_count": 8,
   "id": "987fb553",
   "metadata": {},
   "outputs": [
    {
     "name": "stdout",
     "output_type": "stream",
     "text": [
      "0       1\n",
      "1       1\n",
      "2       1\n",
      "3       1\n",
      "4       0\n",
      "       ..\n",
      "1692    1\n",
      "1693    0\n",
      "1694    1\n",
      "1695    1\n",
      "1696    1\n",
      "Length: 1697, dtype: int64\n"
     ]
    }
   ],
   "source": [
    "\n",
    "#New Code for Logistic Regression\n",
    "tmp_price = [] #List stores a 1 for price go up and 0 for price go down\n",
    "\n",
    "for i in range(len(btcethdf)):\n",
    "    if btcethdf['ETHPrice'][i] > btcethdf['ETHOpen'][i]:\n",
    "        tmp_price.append(1) #Higher close price (went up)\n",
    "    else:\n",
    "        tmp_price.append(0) #Lower/equal close than open (went down)\n",
    "crypto_Y2 = pd.Series(tmp_price, copy=False)\n",
    "print(crypto_Y2)"
   ]
  },
  {
   "cell_type": "code",
   "execution_count": 9,
   "id": "4c74d437",
   "metadata": {},
   "outputs": [],
   "source": [
    "\n",
    "#NEW: Modified Y to Y2 for log regr\n",
    "#Split the data into training/testing sets randomly\n",
    "from sklearn.model_selection import train_test_split\n",
    "X_train, X_test, y_train, y_test = train_test_split(\n",
    "    crypto_X, crypto_Y2, test_size=0.20, random_state=103)\n",
    "\n",
    "#Create linear regression object\n",
    "from sklearn import linear_model\n",
    "logregr = linear_model.LogisticRegression(random_state=103, solver=\"lbfgs\", max_iter=50)"
   ]
  },
  {
   "cell_type": "code",
   "execution_count": null,
   "id": "927b238c",
   "metadata": {},
   "outputs": [],
   "source": [
    "#Train the model using the trianing set\n",
    "logregr.fit(X_train.values, y_train.values) #.values to remove warning\n",
    "\n",
    "\n"
   ]
  },
  {
   "cell_type": "code",
   "execution_count": null,
   "id": "cb7864d5",
   "metadata": {},
   "outputs": [],
   "source": [
    "#Make predictions with the model we just training and comparing\n",
    "#them with the expected results in the test data set\n",
    "y_pred = logregr.predict(X_test)"
   ]
  },
  {
   "cell_type": "code",
   "execution_count": null,
   "id": "a3e0b192",
   "metadata": {},
   "outputs": [],
   "source": [
    "print(y_pred)\n",
    "print(y_test)\n"
   ]
  },
  {
   "cell_type": "code",
   "execution_count": null,
   "id": "95adacdf",
   "metadata": {},
   "outputs": [
    {
     "name": "stdout",
     "output_type": "stream",
     "text": [
      "Accuracy Train: 0.7708179808400885\n",
      "Accuracy Test: 0.7705882352941177\n",
      "Accuracy Overall: 0.7707719505008839\n",
      "Count: 340\n",
      "(array([0.81456954, 0.73544974]), array([0.71098266, 0.83233533]), array([0.75925926, 0.78089888]), array([173, 167]))\n",
      "[[123  50]\n",
      " [ 28 139]]\n",
      "123 50 28 139\n",
      "Precision: 0.7354497354497355\n",
      "Recall: 0.8323353293413174\n",
      "Harmonic: 0.7808988764044945\n"
     ]
    }
   ],
   "source": [
    "#Metrics\n",
    "from sklearn import metrics\n",
    "trainscore = logregr.score(X_train, y_train)\n",
    "testscore = logregr.score(X_test, y_test)\n",
    "overallscore = logregr.score(crypto_X, crypto_Y2)\n",
    "\n",
    "print(\"Accuracy Train:\", trainscore)\n",
    "print(\"Accuracy Test:\",  testscore)\n",
    "print(\"Accuracy Overall:\", overallscore)\n",
    "print(\"Count:\", len(y_pred))\n",
    "print(metrics.precision_recall_fscore_support(y_test, y_pred,\n",
    " labels=[0,1]))\n",
    "print(metrics.confusion_matrix(y_test, y_pred))\n",
    "tn, fp, fn, tp = metrics.confusion_matrix(y_test, y_pred).ravel()\n",
    "print(tn, fp, fn, tp)\n",
    "print(\"Precision:\", tp/(tp+fp)) #the less fp the better precision\n",
    "print(\"Recall:\", tp/(tp+fn)) #the less fn the better recall.\n",
    "print(\"Harmonic:\", 2*tp/(tp+fp)*tp/(tp+fn)/(tp/(tp+fp)+tp/(tp+fn)))\n"
   ]
  },
  {
   "cell_type": "code",
   "execution_count": null,
   "id": "ecea59fa",
   "metadata": {},
   "outputs": [
    {
     "name": "stdout",
     "output_type": "stream",
     "text": [
      "Expected: 1, Predicted: 1\n"
     ]
    }
   ],
   "source": [
    "#Sample Test\n",
    "#Correct: 3329.47 ETH Closing price on 8/24\n",
    "#Opening ETH price was 3322.6\n",
    "#Bitcoin Open 49532.5 \n",
    "#Bitcoin Close 49768.2\n",
    "from numpy import FPE_DIVIDEBYZERO, array as nparray\n",
    "answer = logregr.predict(nparray([[49532.5, 49768.2, 3322.6]]))\n",
    "print(\"Expected: 1, Predicted:\", answer[0])"
   ]
  },
  {
   "cell_type": "code",
   "execution_count": null,
   "id": "c76007fc",
   "metadata": {},
   "outputs": [
    {
     "name": "stdout",
     "output_type": "stream",
     "text": [
      "Expected: 0, Predicted: 0\n"
     ]
    }
   ],
   "source": [
    "#2/20/2022 5:25AM PST\n",
    "#ETH OPEN  2723.79, ETH CLOSE 2630.48\n",
    "#BTC OPEN 39891.25  BTC CLOSE 38240.97\n",
    "\n",
    "answer = logregr.predict(nparray([[39891.25, 38240.97, 2723.79]]))\n",
    "print(\"Expected: 0, Predicted:\", answer[0])\n"
   ]
  },
  {
   "cell_type": "code",
   "execution_count": null,
   "id": "3d85eb47",
   "metadata": {},
   "outputs": [
    {
     "data": {
      "image/png": "[encoded data removed]",
      "text/plain": [
       "<Figure size 432x288 with 4 Axes>"
      ]
     },
     "metadata": {
      "needs_background": "light"
     },
     "output_type": "display_data"
    }
   ],
   "source": [
    "# Plot outputs\n",
    "import matplotlib.pyplot as plt\n",
    "TN = [[],[]]\n",
    "FP = [[],[]]\n",
    "FN = [[],[]]\n",
    "TP = [[],[]]\n",
    "for i in range(len(y_pred)):\n",
    "    if y_pred[i] == 1 and y_test.values[i] == 1:   #TP\n",
    "        TP[0].append(X_test['BTCOpen'].values[i])\n",
    "        TP[1].append(X_test['BTCPrice'].values[i])\n",
    "    elif y_pred[i] == 0 and y_test.values[i] == 0: #TN\n",
    "        TN[0].append(X_test['BTCOpen'].values[i])\n",
    "        TN[1].append(X_test['BTCPrice'].values[i])       \n",
    "    elif y_pred[i] == 1 and y_test.values[i] == 0: #FP\n",
    "        FP[0].append(X_test['BTCOpen'].values[i])\n",
    "        FP[1].append(X_test['BTCPrice'].values[i])\n",
    "    else: #y_pred[i] == 0 and y_test.values[i] == 1: #FN\n",
    "        FN[0].append(X_test['BTCOpen'].values[i])\n",
    "        FN[1].append(X_test['BTCPrice'].values[i])\n",
    "\n",
    "fig = plt.figure()\n",
    "ax1 = fig.add_subplot(221)\n",
    "ax2 = fig.add_subplot(222)\n",
    "ax3 = fig.add_subplot(223)\n",
    "ax4 = fig.add_subplot(224)\n",
    "\n",
    "ax1.set_title('True Positives')\n",
    "ax2.set_title('True Negatives')\n",
    "ax3.set_title('False Positives')\n",
    "ax4.set_title('False Negatives')\n",
    "\n",
    "ax1.scatter(range(len(TP[0])), TP[0], color=\"blue\")\n",
    "ax1.scatter(range(len(TP[1])), TP[1], color=\"green\")\n",
    "ax2.scatter(range(len(TN[0])), TN[0], color=\"blue\")\n",
    "ax2.scatter(range(len(TN[1])), TN[1], color=\"green\")\n",
    "ax3.scatter(range(len(FP[0])), FP[0], color=\"blue\")\n",
    "ax3.scatter(range(len(FP[1])), FP[1], color=\"green\")\n",
    "ax4.scatter(range(len(FN[0])), FN[0], color=\"blue\")\n",
    "ax4.scatter(range(len(FN[1])), FN[1], color=\"green\")\n",
    "\n",
    "#ax1.scatter(range(28), TP[0][0:28], color=\"blue\")\n",
    "#ax1.scatter(range(28), TP[1][0:28], color=\"green\")\n",
    "#ax2.scatter(range(28), TN[0][0:28], color=\"blue\")\n",
    "#ax2.scatter(range(28), TN[1][0:28], color=\"green\")\n",
    "#ax3.scatter(range(28), FP[0][0:28], color=\"blue\")\n",
    "#ax3.scatter(range(28), FP[1][0:28], color=\"green\")\n",
    "#ax4.scatter(range(len(FN[0])), FN[0], color=\"blue\")\n",
    "#ax4.scatter(range(len(FN[1])), FN[1], color=\"green\")\n",
    "\n",
    "plt.show()\n"
   ]
  }
 ],
 "metadata": {
  "interpreter": {
   "hash": "1343b3b84167268911acc1f6f6d84a97a4aa862617f03a77bc88a88a0855281b"
  },
  "kernelspec": {
   "display_name": "Python 3.8.12 ('da622')",
   "language": "python",
   "name": "python3"
  },
  "language_info": {
   "codemirror_mode": {
    "name": "ipython",
    "version": 3
   },
   "file_extension": ".py",
   "mimetype": "text/x-python",
   "name": "python",
   "nbconvert_exporter": "python",
   "pygments_lexer": "ipython3",
   "version": "3.8.12"
  }
 },
 "nbformat": 4,
 "nbformat_minor": 5
}
