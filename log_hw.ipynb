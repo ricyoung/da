{
 "cells": [
  {
   "cell_type": "code",
   "execution_count": 1,
   "id": "b78cdf9d-d557-467a-956d-615f94b4b8d3",
   "metadata": {},
   "outputs": [
    {
     "name": "stdout",
     "output_type": "stream",
     "text": [
      "\u001b[H\u001b[2J"
     ]
    },
    {
     "data": {
      "text/plain": [
       "0"
      ]
     },
     "execution_count": 1,
     "metadata": {},
     "output_type": "execute_result"
    }
   ],
   "source": [
    "#Logistic Regression on Crypto\n",
    "#sorce code by LeSniper\n",
    "#home by ryoung\n",
    "#Will it go up or down? (Created Live on Video)\n",
    "from os import system\n",
    "system(\"clear\")\n"
   ]
  },
  {
   "cell_type": "code",
   "execution_count": 2,
   "id": "3f7a4205",
   "metadata": {},
   "outputs": [],
   "source": [
    "#Load CSV into a Dataframe\n",
    "import pandas as pd\n",
    "xmrdf=pd.read_csv('data/Monero.csv', sep=',', header='infer')\n",
    "# btcdf=pd.read_csv('data/Bitcoin.csv', sep=',', header='infer')\n",
    "#print(btcdf.values)\n",
    "\n",
    "# ethdf=pd.read_csv('data/Ethereum.csv', sep=',', header='infer')\n",
    "xprdf=pd.read_csv('data/XPR.csv', sep=',', header='infer')\n",
    "#print(ethdf.values)"
   ]
  },
  {
   "cell_type": "code",
   "execution_count": 3,
   "id": "01a88798",
   "metadata": {},
   "outputs": [
    {
     "name": "stdout",
     "output_type": "stream",
     "text": [
      "2016-01-01\n",
      "336\n",
      "2063\n"
     ]
    }
   ],
   "source": [
    "\n",
    "#Cleanup data by just 2017-2021 for both\n",
    "#Find 2017 row number, row 2359\n",
    "count = 0\n",
    "for row in xmrdf['Date']:\n",
    "    if '2016' in row:\n",
    "        print(row)\n",
    "        print(count)\n",
    "        break\n",
    "    count +=1\n",
    "\n",
    "cleanxmrdf = xmrdf.drop(\n",
    "    labels=range(0,count), #2359\n",
    "    axis=0,\n",
    "    inplace=False\n",
    ")\n",
    "\n",
    "print(len(cleanxmrdf))\n",
    "# print(cleanxmrdf.values)"
   ]
  },
  {
   "cell_type": "code",
   "execution_count": 4,
   "id": "c0a67d8e",
   "metadata": {},
   "outputs": [],
   "source": [
    "#Next lets drop first row (SNo)\n",
    "cleanxmrdf.drop(labels=['SNo'], axis=1, inplace=True)\n"
   ]
  },
  {
   "cell_type": "code",
   "execution_count": 5,
   "id": "5e529a2f",
   "metadata": {},
   "outputs": [],
   "source": [
    "#Reset index since the row removal doesn't do that\n",
    "cleanxmrdf = cleanxmrdf.reset_index(drop=True)\n"
   ]
  },
  {
   "cell_type": "code",
   "execution_count": 6,
   "id": "8f66e44c",
   "metadata": {},
   "outputs": [
    {
     "name": "stdout",
     "output_type": "stream",
     "text": [
      "            Date    Price     Open     High      Low      Vol.  Change %\n",
      "0     2016-01-01    0.543    0.490    0.543    0.430    1960.0     10.81\n",
      "1     2016-01-02    0.460    0.543    0.590    0.439     590.0    -15.30\n",
      "2     2016-01-03    0.488    0.460    0.488    0.460      20.0      5.98\n",
      "3     2016-01-04    0.470    0.488    0.549    0.470       0.0     -3.59\n",
      "4     2016-01-05    0.470    0.470    0.549    0.470    2610.0      0.00\n",
      "...          ...      ...      ...      ...      ...       ...       ...\n",
      "2058  2021-08-20  282.096  264.272  283.506  262.353  104570.0      6.76\n",
      "2059  2021-08-21  287.914  282.143  293.290  272.711   90820.0      2.06\n",
      "2060  2021-08-22  306.195  288.010  306.728  275.917  113580.0      6.35\n",
      "2061  2021-08-23  318.494  306.274  334.650  302.268  164950.0      4.02\n",
      "2062  2021-08-24  319.757  318.494  323.748  311.623   82530.0      0.40\n",
      "\n",
      "[2063 rows x 7 columns]\n"
     ]
    }
   ],
   "source": [
    "print(cleanxmrdf)\n"
   ]
  },
  {
   "cell_type": "markdown",
   "id": "e85731f9",
   "metadata": {},
   "source": [
    "had to change the formatting of XPR.csv - it had short days ( 10-03-15) for example and the code is looking for 10-03-2015 - so it was just easier to reformat in excel. I check 2 other csv and they had long dates - so I am just fixing the csv and not fixing it in code\n"
   ]
  },
  {
   "cell_type": "code",
   "execution_count": 7,
   "id": "bda76c9f",
   "metadata": {},
   "outputs": [
    {
     "name": "stdout",
     "output_type": "stream",
     "text": [
      "01-01-2016\n",
      "344\n",
      "2063\n",
      "[[2063 '01-01-2016' 0.0055 ... 0.00513 0 5.67]\n",
      " [2062 '01-02-2016' 0.00513 ... 0.005 500 -6.82]\n",
      " [2061 '01-03-2016' 0.0052 ... 0.005 20 1.46]\n",
      " ...\n",
      " [3 '08-22-2021' 1.22574 ... 1.18284 530740000 0.75]\n",
      " [2 '08-23-2021' 1.24617 ... 1.2115 927810000 1.67]\n",
      " [1 '08-24-2021' 1.24856 ... 1.21836 781950000 0.19]]\n"
     ]
    }
   ],
   "source": [
    "#Do the same thng for ethereum\n",
    "count = 0\n",
    "for row in xprdf['Date']:\n",
    "    if '2016' in row:\n",
    "        print(row)\n",
    "        print(count)\n",
    "        break\n",
    "    count +=1\n",
    "\n",
    "cleanxprdf = xprdf.drop(\n",
    "    labels=range(0,count), #297\n",
    "    axis=0,\n",
    "    inplace=False\n",
    ")\n",
    "\n",
    "print(len(cleanxprdf))\n",
    "print(cleanxprdf.values)"
   ]
  },
  {
   "cell_type": "markdown",
   "id": "8dc60114",
   "metadata": {},
   "source": [
    "We want as input, BTC open/close and ETH open. Then as output\n",
    "we want ETH closing price. The idea is to see if we can predict\n",
    "the closing ETH price for the day based on how Bitcoin performed\n",
    "the same day and what the starting price of ETH was that day.\n",
    "This is to see if there is a correlation between both cryptos."
   ]
  },
  {
   "cell_type": "code",
   "execution_count": 8,
   "id": "66856e51",
   "metadata": {},
   "outputs": [],
   "source": [
    "#Next lets drop first row (SNo)\n",
    "cleanxprdf.drop(labels=['SNo'], axis=1, inplace=True)\n",
    "#Reset index since the row removal doesn't do that\n",
    "cleanxprdf = cleanxprdf.reset_index(drop=True)\n"
   ]
  },
  {
   "cell_type": "code",
   "execution_count": 9,
   "id": "ce190215",
   "metadata": {},
   "outputs": [
    {
     "name": "stdout",
     "output_type": "stream",
     "text": [
      "2063 == 2063\n"
     ]
    }
   ],
   "source": [
    "\n",
    "print(len(cleanxmrdf),'==',len(cleanxprdf))"
   ]
  },
  {
   "cell_type": "code",
   "execution_count": null,
   "id": "30c1f2bb",
   "metadata": {},
   "outputs": [],
   "source": []
  },
  {
   "cell_type": "code",
   "execution_count": 10,
   "id": "b041f1c3",
   "metadata": {},
   "outputs": [
    {
     "name": "stdout",
     "output_type": "stream",
     "text": [
      "Index(['Date', 'Price', 'Open', 'High', 'Low', 'Vol.', 'Change %', 'Date',\n",
      "       'Price', 'Open', 'High', 'Low', 'Vol.', 'Change %'],\n",
      "      dtype='object')\n",
      "            Date  xmrPrice  xmrOpen  xmrHigh   xmrLow    xmrVol  xmrChange  \\\n",
      "0     2016-01-01     0.543    0.490    0.543    0.430    1960.0      10.81   \n",
      "1     2016-01-02     0.460    0.543    0.590    0.439     590.0     -15.30   \n",
      "2     2016-01-03     0.488    0.460    0.488    0.460      20.0       5.98   \n",
      "3     2016-01-04     0.470    0.488    0.549    0.470       0.0      -3.59   \n",
      "4     2016-01-05     0.470    0.470    0.549    0.470    2610.0       0.00   \n",
      "...          ...       ...      ...      ...      ...       ...        ...   \n",
      "2058  2021-08-20   282.096  264.272  283.506  262.353  104570.0       6.76   \n",
      "2059  2021-08-21   287.914  282.143  293.290  272.711   90820.0       2.06   \n",
      "2060  2021-08-22   306.195  288.010  306.728  275.917  113580.0       6.35   \n",
      "2061  2021-08-23   318.494  306.274  334.650  302.268  164950.0       4.02   \n",
      "2062  2021-08-24   319.757  318.494  323.748  311.623   82530.0       0.40   \n",
      "\n",
      "      xprPrice  xprOpen  xprHigh   xprLow     xprVol  xprChange  \n",
      "0      0.00550  0.00520  0.00550  0.00513          0       5.67  \n",
      "1      0.00513  0.00513  0.00513  0.00500        500      -6.82  \n",
      "2      0.00520  0.00513  0.00540  0.00500         20       1.46  \n",
      "3      0.00510  0.00520  0.00535  0.00510          0      -1.92  \n",
      "4      0.00500  0.00510  0.00540  0.00500          0      -1.96  \n",
      "...        ...      ...      ...      ...        ...        ...  \n",
      "2058   1.26318  1.23482  1.28762  1.19994  871180000       2.29  \n",
      "2059   1.21663  1.26316  1.28262  1.20444  588180000      -3.69  \n",
      "2060   1.22574  1.21654  1.25540  1.18284  530740000       0.75  \n",
      "2061   1.24617  1.22577  1.30288  1.21150  927810000       1.67  \n",
      "2062   1.24856  1.24630  1.26486  1.21836  781950000       0.19  \n",
      "\n",
      "[2063 rows x 13 columns]\n"
     ]
    }
   ],
   "source": [
    "\n",
    "\n",
    "#We want as input, BTC open/close and ETH open. Then as output\n",
    "#we want ETH closing price. The idea is to see if we can predict\n",
    "#the closing ETH price for the day based on how Bitcoin performed\n",
    "#the same day and what the starting price of ETH was that day.\n",
    "#This is to see if there is a correlation between both cryptos.\n",
    "\n",
    "#First let's lego both dataframe together\n",
    "# btcethdf = pd.concat([cleanbtcdf, cleanethdf], axis=1, join='outer')\n",
    "\n",
    "\n",
    "bothdf = pd.concat([cleanxmrdf, cleanxprdf], axis=1, join='outer')\n",
    "#print(btcethdf)\n",
    "\n",
    "#Let's rename columns and remove the duplicate Date column\n",
    "#\n",
    "print(bothdf.columns)\n",
    "\n",
    "bothdf.columns = ['Date', 'xmrPrice', 'xmrOpen', 'xmrHigh', \n",
    " 'xmrLow', 'xmrVol', 'xmrChange', 'xprDate', 'xprPrice', \n",
    " 'xprOpen', 'xprHigh', 'xprLow', 'xprVol', 'xprChange']\n",
    "\n",
    "bothdf.drop(labels=['xprDate'], axis=1,inplace=True)\n",
    "\n",
    "print(bothdf)\n",
    "#print(btcethdf.columns)"
   ]
  },
  {
   "cell_type": "code",
   "execution_count": 11,
   "id": "e72ec5a3",
   "metadata": {},
   "outputs": [
    {
     "name": "stdout",
     "output_type": "stream",
     "text": [
      "            Date  xmrPrice  xmrOpen  xmrHigh   xmrLow    xmrVol  xmrChange  \\\n",
      "0     2016-01-01     0.543    0.490    0.543    0.430    1960.0      10.81   \n",
      "1     2016-01-02     0.460    0.543    0.590    0.439     590.0     -15.30   \n",
      "2     2016-01-03     0.488    0.460    0.488    0.460      20.0       5.98   \n",
      "3     2016-01-04     0.470    0.488    0.549    0.470       0.0      -3.59   \n",
      "4     2016-01-05     0.470    0.470    0.549    0.470    2610.0       0.00   \n",
      "...          ...       ...      ...      ...      ...       ...        ...   \n",
      "2058  2021-08-20   282.096  264.272  283.506  262.353  104570.0       6.76   \n",
      "2059  2021-08-21   287.914  282.143  293.290  272.711   90820.0       2.06   \n",
      "2060  2021-08-22   306.195  288.010  306.728  275.917  113580.0       6.35   \n",
      "2061  2021-08-23   318.494  306.274  334.650  302.268  164950.0       4.02   \n",
      "2062  2021-08-24   319.757  318.494  323.748  311.623   82530.0       0.40   \n",
      "\n",
      "      xprPrice  xprOpen  xprHigh   xprLow     xprVol  xprChange  \n",
      "0      0.00550  0.00520  0.00550  0.00513          0       5.67  \n",
      "1      0.00513  0.00513  0.00513  0.00500        500      -6.82  \n",
      "2      0.00520  0.00513  0.00540  0.00500         20       1.46  \n",
      "3      0.00510  0.00520  0.00535  0.00510          0      -1.92  \n",
      "4      0.00500  0.00510  0.00540  0.00500          0      -1.96  \n",
      "...        ...      ...      ...      ...        ...        ...  \n",
      "2058   1.26318  1.23482  1.28762  1.19994  871180000       2.29  \n",
      "2059   1.21663  1.26316  1.28262  1.20444  588180000      -3.69  \n",
      "2060   1.22574  1.21654  1.25540  1.18284  530740000       0.75  \n",
      "2061   1.24617  1.22577  1.30288  1.21150  927810000       1.67  \n",
      "2062   1.24856  1.24630  1.26486  1.21836  781950000       0.19  \n",
      "\n",
      "[2063 rows x 13 columns]\n"
     ]
    }
   ],
   "source": [
    "print(bothdf)"
   ]
  },
  {
   "cell_type": "code",
   "execution_count": 12,
   "id": "9f0f0cff",
   "metadata": {},
   "outputs": [
    {
     "name": "stdout",
     "output_type": "stream",
     "text": [
      "2063\n"
     ]
    }
   ],
   "source": [
    "\n",
    "#Let's make our X Features (Closing Price is called 'Price')\n",
    "crypto_X = bothdf[['xmrOpen', 'xmrHigh', 'xmrLow', 'xmrVol', 'xmrPrice', 'xprOpen']].copy()\n",
    "#Our output Y:\n",
    "crypto_Y = bothdf['xprPrice'].copy()\n",
    "\n",
    "#change code to logistic regression\n",
    "#1 is price goes up and 0 is price goes down\n",
    "tmp_price = []\n",
    "\n",
    "#should be 2062\n",
    "\n",
    "\n",
    "for i in range(len(bothdf)):\n",
    "    if bothdf['xmrPrice'][i] > bothdf['xmrOpen'][i]:\n",
    "        tmp_price.append(1) #Higher close price (went up)\n",
    "    else:\n",
    "        tmp_price.append(0) #Lower/equal close than open (went down)\n",
    "crypto_Y2 = pd.Series(tmp_price, copy=False)\n",
    "print(len(crypto_Y2))\n"
   ]
  },
  {
   "cell_type": "code",
   "execution_count": 13,
   "id": "e646e268",
   "metadata": {},
   "outputs": [
    {
     "name": "stdout",
     "output_type": "stream",
     "text": [
      "0       1\n",
      "1       0\n",
      "2       1\n",
      "3       0\n",
      "4       0\n",
      "       ..\n",
      "2058    1\n",
      "2059    1\n",
      "2060    1\n",
      "2061    1\n",
      "2062    1\n",
      "Length: 2063, dtype: int64\n",
      "      xmrOpen  xmrHigh   xmrLow    xmrVol  xmrPrice  xprOpen\n",
      "0       0.490    0.543    0.430    1960.0     0.543  0.00520\n",
      "1       0.543    0.590    0.439     590.0     0.460  0.00513\n",
      "2       0.460    0.488    0.460      20.0     0.488  0.00513\n",
      "3       0.488    0.549    0.470       0.0     0.470  0.00520\n",
      "4       0.470    0.549    0.470    2610.0     0.470  0.00510\n",
      "...       ...      ...      ...       ...       ...      ...\n",
      "2058  264.272  283.506  262.353  104570.0   282.096  1.23482\n",
      "2059  282.143  293.290  272.711   90820.0   287.914  1.26316\n",
      "2060  288.010  306.728  275.917  113580.0   306.195  1.21654\n",
      "2061  306.274  334.650  302.268  164950.0   318.494  1.22577\n",
      "2062  318.494  323.748  311.623   82530.0   319.757  1.24630\n",
      "\n",
      "[2063 rows x 6 columns]\n"
     ]
    }
   ],
   "source": [
    "print(crypto_Y2)\n",
    "print(crypto_X)\n"
   ]
  },
  {
   "cell_type": "code",
   "execution_count": 14,
   "id": "987fb553",
   "metadata": {},
   "outputs": [],
   "source": [
    "\n",
    "# #New Code for Logistic Regression\n",
    "# tmp_price = [] #List stores a 1 for price go up and 0 for price go down\n",
    "\n",
    "# for i in range(len(btcethdf)):\n",
    "#     if btcethdf['ETHPrice'][i] > btcethdf['ETHOpen'][i]:\n",
    "#         tmp_price.append(1) #Higher close price (went up)\n",
    "#     else:\n",
    "#         tmp_price.append(0) #Lower/equal close than open (went down)\n",
    "# crypto_Y2 = pd.Series(tmp_price, copy=False)\n",
    "# print(crypto_Y2)"
   ]
  },
  {
   "cell_type": "markdown",
   "id": "47e800d9",
   "metadata": {},
   "source": [
    "https://towardsdatascience.com/logistic-regression-using-python-sklearn-numpy-mnist-handwriting-recognition-matplotlib-a6b31e2b166a"
   ]
  },
  {
   "cell_type": "code",
   "execution_count": 15,
   "id": "4c74d437",
   "metadata": {},
   "outputs": [],
   "source": [
    "\n",
    "#NEW: Modified Y to Y2 for log regr\n",
    "#Split the data into training/testing sets randomly\n",
    "from sklearn.model_selection import train_test_split\n",
    "X_train, X_test, y_train, y_test = train_test_split(\n",
    "    crypto_X, crypto_Y2, test_size=0.20, random_state=103)\n",
    "\n",
    "#Create linear regression object\n",
    "from sklearn import linear_model\n",
    "# logregr = linear_model.LogisticRegression(random_state=103,\n",
    "# solver=\"lbfgs\", max_iter=10000)\n",
    "\n",
    "# logregr = linear_model.SGDClassifier(random_state=103, loss='log', learning_rate='constant', eta0=0.01, max_iter=10000)\n",
    "\n",
    "# logregr = linear_model.SGDClassifier( alpha=0.1, average=False, class_weight=None, epsilon=0.1, eta0=0.0,fit_intercept=True, \n",
    "# l1_ratio=0.15, learning_rate='optimal', loss='log', max_iter=1000,  n_jobs=None, penalty='l2', \n",
    "# shuffle=False, tol=None, verbose=1, warm_start=False)\n",
    "\n",
    "\n",
    "logregr = linear_model.LogisticRegressionCV(random_state=103, solver='lbfgs', max_iter=10000)\n"
   ]
  },
  {
   "cell_type": "markdown",
   "id": "702b4222",
   "metadata": {},
   "source": [
    "https://towardsdatascience.com/how-to-make-sgd-classifier-perform-as-well-as-logistic-regression-using-parfit-cc10bca2d3c4\n",
    "\n",
    "Logistic Regression by default uses Gradient Descent and as such it would be better to use SGD Classifier on larger data sets. One another reason you might want to use SGD Classifier is, logistic regression, in its vanilla sklearn form, won’t work if you can’t hold the dataset in RAM but SGD will still work."
   ]
  },
  {
   "cell_type": "code",
   "execution_count": 16,
   "id": "927b238c",
   "metadata": {},
   "outputs": [
    {
     "data": {
      "text/plain": [
       "LogisticRegressionCV(max_iter=10000, random_state=103)"
      ]
     },
     "execution_count": 16,
     "metadata": {},
     "output_type": "execute_result"
    }
   ],
   "source": [
    "#Train the model using the trianing set\n",
    "# logregr.fit(X_train.values, y_train.values) #.values to remove warning\n",
    " \n",
    "\n",
    "logregr.fit(X_train.values, y_train.values) #.values to remove warning"
   ]
  },
  {
   "cell_type": "code",
   "execution_count": 17,
   "id": "cb7864d5",
   "metadata": {},
   "outputs": [],
   "source": [
    "#Make predictions with the model we just training and comparing\n",
    "#them with the expected results in the test data set\n",
    "y_pred = logregr.predict(X_test)"
   ]
  },
  {
   "cell_type": "code",
   "execution_count": 18,
   "id": "a3e0b192",
   "metadata": {},
   "outputs": [
    {
     "name": "stdout",
     "output_type": "stream",
     "text": [
      "[0 1 1 0 0 1 1 1 1 1 1 1 0 1 0 0 0 1 1 1 1 1 0 0 1 0 0 0 1 0 1 1 0 1 0 0 0\n",
      " 1 1 0 1 0 1 0 0 1 1 0 1 1 1 1 1 1 0 0 1 1 1 1 1 1 1 1 0 1 0 1 0 0 1 0 0 1\n",
      " 0 1 1 1 1 0 0 0 1 1 1 1 0 0 0 1 0 0 1 0 1 0 1 0 0 1 0 1 1 0 0 0 1 0 1 1 1\n",
      " 1 1 0 0 0 0 1 0 1 0 1 1 1 0 1 0 1 1 1 1 1 1 1 1 1 1 1 1 0 1 0 0 1 1 1 0 0\n",
      " 1 1 0 0 0 0 0 0 0 0 1 0 0 1 0 1 0 0 0 0 0 1 0 0 1 1 1 1 1 1 1 0 0 1 1 0 1\n",
      " 0 0 0 1 1 1 1 0 0 1 0 1 0 0 1 0 0 0 0 0 1 0 1 1 0 1 0 1 0 1 0 1 1 1 0 0 0\n",
      " 0 1 1 0 0 0 0 0 1 1 0 1 0 1 0 1 1 0 1 1 1 0 1 0 0 1 0 0 0 0 0 0 1 1 0 0 0\n",
      " 0 0 1 1 1 1 0 0 1 1 1 0 0 0 0 1 0 1 0 0 1 1 1 0 1 1 1 1 0 0 1 1 0 1 1 1 0\n",
      " 0 1 0 1 1 0 0 1 0 0 1 0 0 1 0 0 1 0 1 1 0 0 0 1 0 1 1 1 1 1 1 0 1 0 1 0 1\n",
      " 0 1 1 0 0 0 1 0 1 1 0 0 1 1 0 1 1 0 0 0 0 1 0 1 0 0 0 1 0 1 1 1 0 0 0 0 0\n",
      " 0 0 0 1 1 1 0 0 0 0 1 1 1 0 0 1 0 0 0 0 1 1 1 0 1 1 1 0 1 1 1 1 1 0 1 1 0\n",
      " 0 1 0 0 0 0]\n",
      "1842    0\n",
      "1416    1\n",
      "838     1\n",
      "125     0\n",
      "1178    0\n",
      "       ..\n",
      "343     1\n",
      "342     0\n",
      "133     0\n",
      "962     0\n",
      "202     0\n",
      "Length: 413, dtype: int64\n"
     ]
    }
   ],
   "source": [
    "print(y_pred)\n",
    "print(y_test)\n"
   ]
  },
  {
   "cell_type": "code",
   "execution_count": 19,
   "id": "95adacdf",
   "metadata": {},
   "outputs": [
    {
     "name": "stdout",
     "output_type": "stream",
     "text": [
      "Accuracy Train: 0.9890909090909091\n",
      "Accuracy Test: 0.9806295399515739\n",
      "Accuracy Overall: 0.9873969946679593\n",
      "Count: 413\n",
      "(array([0.97536946, 0.98571429]), array([0.98507463, 0.97641509]), array([0.98019802, 0.98104265]), array([201, 212]))\n",
      "[[198   3]\n",
      " [  5 207]]\n",
      "198 3 5 207\n",
      "Precision: 0.9857142857142858\n",
      "Recall: 0.9764150943396226\n",
      "Harmonic: 0.981042654028436\n"
     ]
    }
   ],
   "source": [
    "#Metrics\n",
    "from sklearn import metrics\n",
    "trainscore = logregr.score(X_train, y_train)\n",
    "testscore = logregr.score(X_test, y_test)\n",
    "overallscore = logregr.score(crypto_X, crypto_Y2)\n",
    "\n",
    "print(\"Accuracy Train:\", trainscore)\n",
    "print(\"Accuracy Test:\",  testscore)\n",
    "print(\"Accuracy Overall:\", overallscore)\n",
    "print(\"Count:\", len(y_pred))\n",
    "print(metrics.precision_recall_fscore_support(y_test, y_pred,\n",
    " labels=[0,1]))\n",
    "print(metrics.confusion_matrix(y_test, y_pred))\n",
    "tn, fp, fn, tp = metrics.confusion_matrix(y_test, y_pred).ravel()\n",
    "print(tn, fp, fn, tp)\n",
    "print(\"Precision:\", tp/(tp+fp)) #the less fp the better precision\n",
    "print(\"Recall:\", tp/(tp+fn)) #the less fn the better recall.\n",
    "print(\"Harmonic:\", 2*tp/(tp+fp)*tp/(tp+fn)/(tp/(tp+fp)+tp/(tp+fn)))\n"
   ]
  },
  {
   "cell_type": "code",
   "execution_count": 20,
   "id": "ecea59fa",
   "metadata": {},
   "outputs": [],
   "source": [
    "## Test\n",
    "#Correct: 3329.47 ETH Closing price on 8/24\n",
    "#Opening ETH price was 3322.6\n",
    "#Bitcoin Open 49532.5 \n",
    "#Bitcoin Close 49768.2\n",
    "# from numpy import FPE_DIVIDEBYZERO, array as nparray\n",
    "# answer = logregr.predict(nparray([[49532.5, 49768.2, 3322.6]]))\n",
    "# print(\"Expected: 1, Predicted:\", answer[0])"
   ]
  },
  {
   "cell_type": "code",
   "execution_count": 21,
   "id": "c76007fc",
   "metadata": {},
   "outputs": [],
   "source": [
    "## test\n",
    "\n",
    "#2/20/2022 5:25AM PST\n",
    "#ETH OPEN  2723.79, ETH CLOSE 2630.48\n",
    "#BTC OPEN 39891.25  BTC CLOSE 38240.97\n",
    "\n",
    "# answer = logregr.predict(nparray([[39891.25, 38240.97, 2723.79]]))\n",
    "# print(\"Expected: 0, Predicted:\", answer[0])\n"
   ]
  },
  {
   "cell_type": "code",
   "execution_count": 22,
   "id": "14b64e0d",
   "metadata": {},
   "outputs": [
    {
     "data": {
      "text/plain": [
       "array([[198,   3],\n",
       "       [  5, 207]])"
      ]
     },
     "execution_count": 22,
     "metadata": {},
     "output_type": "execute_result"
    }
   ],
   "source": [
    "from sklearn.metrics import confusion_matrix\n",
    "confusion_matrix(y_test, y_pred)\n",
    "\n"
   ]
  },
  {
   "cell_type": "code",
   "execution_count": 29,
   "id": "3d85eb47",
   "metadata": {},
   "outputs": [
    {
     "data": {
      "image/png": "[encoded data removed]",
      "text/plain": [
       "<Figure size 1440x720 with 4 Axes>"
      ]
     },
     "metadata": {
      "needs_background": "light"
     },
     "output_type": "display_data"
    }
   ],
   "source": [
    "# Plot outputs\n",
    "import matplotlib.pyplot as plt\n",
    "plt.rcParams[\"figure.figsize\"] = (20,10)\n",
    "\n",
    "\n",
    "\n",
    "TN = [[],[]]\n",
    "FP = [[],[]]\n",
    "FN = [[],[]]\n",
    "TP = [[],[]]\n",
    "for i in range(len(y_pred)):\n",
    "    if y_pred[i] == 1 and y_test.values[i] == 1:   #TP\n",
    "        TP[0].append(X_test['xmrOpen'].values[i])\n",
    "        TP[1].append(X_test['xmrPrice'].values[i])\n",
    "    elif y_pred[i] == 0 and y_test.values[i] == 0: #TN\n",
    "        TN[0].append(X_test['xmrOpen'].values[i])\n",
    "        TN[1].append(X_test['xmrPrice'].values[i])       \n",
    "    elif y_pred[i] == 1 and y_test.values[i] == 0: #FP\n",
    "        FP[0].append(X_test['xmrOpen'].values[i])\n",
    "        FP[1].append(X_test['xmrPrice'].values[i])\n",
    "    else: #y_pred[i] == 0 and y_test.values[i] == 1: #FN\n",
    "        FN[0].append(X_test['xmrOpen'].values[i])\n",
    "        FN[1].append(X_test['xmrPrice'].values[i])\n",
    "\n",
    "fig = plt.figure()\n",
    "ax1 = fig.add_subplot(221)\n",
    "ax2 = fig.add_subplot(222)\n",
    "ax3 = fig.add_subplot(223)\n",
    "ax4 = fig.add_subplot(224)\n",
    "\n",
    "ax1.set_title('True Positives')\n",
    "ax2.set_title('True Negatives')\n",
    "ax3.set_title('False Positives')\n",
    "ax4.set_title('False Negatives')\n",
    "\n",
    "ax1.scatter(range(len(TP[0])), TP[0], color=\"blue\")\n",
    "ax1.scatter(range(len(TP[1])), TP[1], color=\"green\")\n",
    "ax2.scatter(range(len(TN[0])), TN[0], color=\"blue\")\n",
    "ax2.scatter(range(len(TN[1])), TN[1], color=\"green\")\n",
    "ax3.scatter(range(len(FP[0])), FP[0], color=\"blue\")\n",
    "ax3.scatter(range(len(FP[1])), FP[1], color=\"green\")\n",
    "ax4.scatter(range(len(FN[0])), FN[0], color=\"blue\")\n",
    "ax4.scatter(range(len(FN[1])), FN[1], color=\"green\")\n",
    "\n",
    "#ax1.scatter(range(28), TP[0][0:28], color=\"blue\")\n",
    "#ax1.scatter(range(28), TP[1][0:28], color=\"green\")\n",
    "#ax2.scatter(range(28), TN[0][0:28], color=\"blue\")\n",
    "#ax2.scatter(range(28), TN[1][0:28], color=\"green\")\n",
    "#ax3.scatter(range(28), FP[0][0:28], color=\"blue\")\n",
    "#ax3.scatter(range(28), FP[1][0:28], color=\"green\")\n",
    "#ax4.scatter(range(len(FN[0])), FN[0], color=\"blue\")\n",
    "#ax4.scatter(range(len(FN[1])), FN[1], color=\"green\")\n",
    "\n",
    "plt.show()\n"
   ]
  },
  {
   "cell_type": "code",
   "execution_count": null,
   "id": "13f67835",
   "metadata": {},
   "outputs": [],
   "source": []
  }
 ],
 "metadata": {
  "interpreter": {
   "hash": "1343b3b84167268911acc1f6f6d84a97a4aa862617f03a77bc88a88a0855281b"
  },
  "kernelspec": {
   "display_name": "Python 3.8.12 ('da622')",
   "language": "python",
   "name": "python3"
  },
  "language_info": {
   "codemirror_mode": {
    "name": "ipython",
    "version": 3
   },
   "file_extension": ".py",
   "mimetype": "text/x-python",
   "name": "python",
   "nbconvert_exporter": "python",
   "pygments_lexer": "ipython3",
   "version": "3.8.12"
  }
 },
 "nbformat": 4,
 "nbformat_minor": 5
}
